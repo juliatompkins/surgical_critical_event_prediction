{
 "cells": [
  {
   "cell_type": "code",
   "execution_count": 1,
   "id": "2e7d7e48",
   "metadata": {},
   "outputs": [],
   "source": [
    "import numpy as np\n",
    "import pandas as pd\n",
    "import matplotlib.pyplot as plt\n",
    "from sklearn.linear_model import LinearRegression\n",
    "from sklearn.linear_model import LogisticRegression\n",
    "from sklearn.ensemble import RandomForestClassifier\n",
    "import xgboost as xgb\n",
    "from sklearn.model_selection import train_test_split\n",
    "from sklearn.metrics import r2_score, mean_squared_error, accuracy_score, confusion_matrix, classification_report\n",
    "import seaborn as sns\n",
    "\n",
    "# Reading in data\n",
    "data = pd.read_csv(\"data_icu.csv\")\n",
    "#data = pd.read_csv(\"/Users/dylanmack/Library/CloudStorage/OneDrive-WashingtonUniversityinSt.Louis/ESE 527/surgical_critical_event_prediction/data_icu.csv\")"
   ]
  },
  {
   "cell_type": "code",
   "execution_count": 2,
   "id": "ded982d2",
   "metadata": {
    "scrolled": true
   },
   "outputs": [
    {
     "data": {
      "text/html": [
       "<div>\n",
       "<style scoped>\n",
       "    .dataframe tbody tr th:only-of-type {\n",
       "        vertical-align: middle;\n",
       "    }\n",
       "\n",
       "    .dataframe tbody tr th {\n",
       "        vertical-align: top;\n",
       "    }\n",
       "\n",
       "    .dataframe thead th {\n",
       "        text-align: right;\n",
       "    }\n",
       "</style>\n",
       "<table border=\"1\" class=\"dataframe\">\n",
       "  <thead>\n",
       "    <tr style=\"text-align: right;\">\n",
       "      <th></th>\n",
       "      <th>caseid</th>\n",
       "      <th>subjectid</th>\n",
       "      <th>Age</th>\n",
       "      <th>Ht</th>\n",
       "      <th>Wt</th>\n",
       "      <th>Sex</th>\n",
       "      <th>OP_time</th>\n",
       "      <th>Open</th>\n",
       "      <th>Robotic</th>\n",
       "      <th>Videoscopic</th>\n",
       "      <th>icu_days</th>\n",
       "      <th>death_inhosp</th>\n",
       "      <th>age_group</th>\n",
       "      <th>icu_length</th>\n",
       "      <th>Mahalanobis</th>\n",
       "    </tr>\n",
       "  </thead>\n",
       "  <tbody>\n",
       "    <tr>\n",
       "      <th>0</th>\n",
       "      <td>55</td>\n",
       "      <td>5077</td>\n",
       "      <td>18.0</td>\n",
       "      <td>175.1</td>\n",
       "      <td>59.2</td>\n",
       "      <td>0</td>\n",
       "      <td>292.55</td>\n",
       "      <td>1</td>\n",
       "      <td>0</td>\n",
       "      <td>0</td>\n",
       "      <td>3</td>\n",
       "      <td>0</td>\n",
       "      <td>child</td>\n",
       "      <td>1</td>\n",
       "      <td>2.082258</td>\n",
       "    </tr>\n",
       "    <tr>\n",
       "      <th>1</th>\n",
       "      <td>264</td>\n",
       "      <td>10</td>\n",
       "      <td>0.7</td>\n",
       "      <td>64.1</td>\n",
       "      <td>8.9</td>\n",
       "      <td>1</td>\n",
       "      <td>475.00</td>\n",
       "      <td>1</td>\n",
       "      <td>0</td>\n",
       "      <td>0</td>\n",
       "      <td>38</td>\n",
       "      <td>0</td>\n",
       "      <td>child</td>\n",
       "      <td>1</td>\n",
       "      <td>2.051887</td>\n",
       "    </tr>\n",
       "    <tr>\n",
       "      <th>2</th>\n",
       "      <td>280</td>\n",
       "      <td>5985</td>\n",
       "      <td>0.6</td>\n",
       "      <td>42.0</td>\n",
       "      <td>5.6</td>\n",
       "      <td>1</td>\n",
       "      <td>435.00</td>\n",
       "      <td>1</td>\n",
       "      <td>0</td>\n",
       "      <td>0</td>\n",
       "      <td>15</td>\n",
       "      <td>0</td>\n",
       "      <td>child</td>\n",
       "      <td>1</td>\n",
       "      <td>2.553821</td>\n",
       "    </tr>\n",
       "    <tr>\n",
       "      <th>3</th>\n",
       "      <td>366</td>\n",
       "      <td>10</td>\n",
       "      <td>0.8</td>\n",
       "      <td>64.1</td>\n",
       "      <td>8.9</td>\n",
       "      <td>1</td>\n",
       "      <td>115.00</td>\n",
       "      <td>1</td>\n",
       "      <td>0</td>\n",
       "      <td>0</td>\n",
       "      <td>38</td>\n",
       "      <td>0</td>\n",
       "      <td>child</td>\n",
       "      <td>1</td>\n",
       "      <td>1.676772</td>\n",
       "    </tr>\n",
       "    <tr>\n",
       "      <th>4</th>\n",
       "      <td>527</td>\n",
       "      <td>4603</td>\n",
       "      <td>18.0</td>\n",
       "      <td>185.0</td>\n",
       "      <td>62.6</td>\n",
       "      <td>0</td>\n",
       "      <td>210.00</td>\n",
       "      <td>1</td>\n",
       "      <td>0</td>\n",
       "      <td>0</td>\n",
       "      <td>1</td>\n",
       "      <td>0</td>\n",
       "      <td>child</td>\n",
       "      <td>0</td>\n",
       "      <td>1.775898</td>\n",
       "    </tr>\n",
       "  </tbody>\n",
       "</table>\n",
       "</div>"
      ],
      "text/plain": [
       "   caseid  subjectid   Age     Ht    Wt  Sex  OP_time  Open  Robotic  \\\n",
       "0      55       5077  18.0  175.1  59.2    0   292.55     1        0   \n",
       "1     264         10   0.7   64.1   8.9    1   475.00     1        0   \n",
       "2     280       5985   0.6   42.0   5.6    1   435.00     1        0   \n",
       "3     366         10   0.8   64.1   8.9    1   115.00     1        0   \n",
       "4     527       4603  18.0  185.0  62.6    0   210.00     1        0   \n",
       "\n",
       "   Videoscopic  icu_days  death_inhosp age_group  icu_length  Mahalanobis  \n",
       "0            0         3             0     child           1     2.082258  \n",
       "1            0        38             0     child           1     2.051887  \n",
       "2            0        15             0     child           1     2.553821  \n",
       "3            0        38             0     child           1     1.676772  \n",
       "4            0         1             0     child           0     1.775898  "
      ]
     },
     "execution_count": 2,
     "metadata": {},
     "output_type": "execute_result"
    }
   ],
   "source": [
    "# this contains data only on people who spent at least one day in the ICU\n",
    "# icu_length = 0 means one day in the ICU, icu_length = 1 means two or more days in the ICU - RENAME as \"inpatient\"\n",
    "data.head()"
   ]
  },
  {
   "cell_type": "markdown",
   "id": "e299bf53",
   "metadata": {},
   "source": [
    "# Multiple Linear Regression"
   ]
  },
  {
   "cell_type": "markdown",
   "id": "86c84894",
   "metadata": {},
   "source": [
    "For this section, we will only consider people who did have ICU stays and will predict the number of days their stay lasted."
   ]
  },
  {
   "cell_type": "code",
   "execution_count": null,
   "id": "09f531ae",
   "metadata": {},
   "outputs": [],
   "source": [
    "# select the relevant variables\n",
    "X_ml = data[['Age', 'Ht', 'Wt', 'Sex', 'OP_time', 'Open', 'Robotic', 'Videoscopic']]\n",
    "y_ml = data['icu_days']\n",
    "\n",
    "# test/train split\n",
    "X_train_ml, X_test_ml, y_train_ml, y_test_ml = train_test_split(X_ml, y_ml, test_size=0.2, random_state=10)\n",
    "\n",
    "print(f'There are {len(y_train_ml)} training instances and {len(y_test_ml)} testing instances')\n",
    "\n",
    "# train the model and make predictions\n",
    "model_ml = LinearRegression()\n",
    "model_ml.fit(X_train_ml, y_train_ml)\n",
    "y_prediction_ml = model_ml.predict(X_test_ml)\n",
    "\n",
    "plt.figure()\n",
    "plt.hist(y_test_ml)"
   ]
  },
  {
   "cell_type": "code",
   "execution_count": null,
   "id": "f8b31e4a",
   "metadata": {},
   "outputs": [],
   "source": [
    "# Coefficient of Determination (R²):\n",
    "# R² explains the proportion of variance in the target variable that is explained by the predictors.\n",
    "r2_ml = r2_score(y_test_ml, y_prediction_ml)\n",
    "print(f'The feature variables explain {100*r2_ml}% of the variance in number of ICU days')\n",
    "\n",
    "rmse_ml = mean_squared_error(y_test_ml, y_prediction_ml, squared = False)\n",
    "print(f'The root mean squared error is {rmse_ml}')\n",
    "\n",
    "# plotting residuals\n",
    "residuals_ml = y_test_ml - y_prediction_ml\n",
    "plt.scatter(y_prediction_ml, residuals_ml)\n",
    "plt.hlines(0, min(y_prediction_ml), max(y_prediction_ml), colors=\"r\", linestyles=\"dashed\")\n",
    "plt.xlabel(\"Predicted values\")\n",
    "plt.ylabel(\"Residuals\")\n",
    "plt.title(\"Residual Plot\")\n",
    "plt.show()"
   ]
  },
  {
   "cell_type": "markdown",
   "id": "dab7a800",
   "metadata": {},
   "source": [
    "# Logistic Regression (ICU)"
   ]
  },
  {
   "cell_type": "markdown",
   "id": "8ba08589",
   "metadata": {},
   "source": [
    "Predict whether or not someone will have long or short ICU stay."
   ]
  },
  {
   "cell_type": "code",
   "execution_count": null,
   "id": "c37c62aa",
   "metadata": {},
   "outputs": [],
   "source": [
    "X_lr_icu = data[['Age', 'Ht', 'Wt', 'Sex', 'OP_time', 'Open', 'Robotic', 'Videoscopic']]\n",
    "y_lr_icu = data['icu_length']\n",
    "\n",
    "X_train_lr_icu, X_test_lr_icu, y_train_lr_icu, y_test_lr_icu = train_test_split(X_lr_icu, y_lr_icu, test_size=0.2, random_state=42)\n",
    "print(f'There are {len(y_train_lr_icu)} training instances and {len(y_test_lr_icu)} testing instances')\n",
    "\n",
    "# train the model and make predictions\n",
    "model_lr_icu = LogisticRegression(class_weight=\"balanced\", solver='liblinear', random_state=42)\n",
    "model_lr_icu.fit(X_train_lr_icu, y_train_lr_icu)\n",
    "y_prediction_lr_icu = model_lr_icu.predict(X_test_lr_icu)"
   ]
  },
  {
   "cell_type": "code",
   "execution_count": null,
   "id": "a5487da9",
   "metadata": {},
   "outputs": [],
   "source": [
    "accuracy_icu = accuracy_score(y_test_lr_icu, y_prediction_lr_icu)\n",
    "print(\"Accuracy:\", accuracy_icu)\n",
    "\n",
    "# Classification Report\n",
    "print(\"Classification Report:\\n\", classification_report(y_test_lr_icu, y_prediction_lr_icu))"
   ]
  },
  {
   "cell_type": "code",
   "execution_count": null,
   "id": "e7520dfb",
   "metadata": {},
   "outputs": [],
   "source": [
    "# confusion matrix visualization\n",
    "\n",
    "cm_icu = confusion_matrix(y_test_lr_icu, y_prediction_lr_icu)\n",
    "\n",
    "plt.figure()\n",
    "sns.heatmap(cm_icu, annot=True, fmt='d', cmap='Blues', cbar=False, annot_kws={\"size\": 16})\n",
    "plt.xlabel('Predicted Labels')\n",
    "plt.ylabel('True Labels')\n",
    "plt.title('Confusion Matrix')\n",
    "plt.show()"
   ]
  },
  {
   "cell_type": "markdown",
   "id": "29e37d08",
   "metadata": {},
   "source": [
    "# Logistic Regression (Mortality)"
   ]
  },
  {
   "cell_type": "code",
   "execution_count": null,
   "id": "2bb2e00c",
   "metadata": {},
   "outputs": [],
   "source": [
    "X_lr_mor = data[['Age', 'Ht', 'Wt', 'Sex', 'OP_time', 'Open', 'Robotic', 'Videoscopic']]\n",
    "y_lr_mor = data['death_inhosp']\n",
    "\n",
    "X_train_lr_mor, X_test_lr_mor, y_train_lr_mor, y_test_lr_mor = train_test_split(X_lr_mor, y_lr_mor, test_size=0.2, random_state=42)\n",
    "print(f'There are {len(y_train_lr_mor)} training instances and {len(y_test_lr_mor)} testing instances')\n",
    "\n",
    "# train the model and make predictions\n",
    "model_lr_mor = LogisticRegression(solver='liblinear', random_state=42)\n",
    "model_lr_mor.fit(X_train_lr_mor, y_train_lr_mor)\n",
    "y_prediction_lr_mor = model_lr_mor.predict(X_test_lr_mor)"
   ]
  },
  {
   "cell_type": "code",
   "execution_count": null,
   "id": "6ad18678",
   "metadata": {},
   "outputs": [],
   "source": [
    "accuracy_mor = accuracy_score(y_test_lr_mor, y_prediction_lr_mor)\n",
    "print(\"Accuracy:\", accuracy_mor)\n",
    "\n",
    "# Classification Report\n",
    "print(\"Classification Report:\\n\", classification_report(y_test_lr_mor, y_prediction_lr_mor))\n",
    "print(\"Confusion Matrix:\\n\", confusion_matrix(y_test_lr_mor, y_prediction_lr_mor))\n",
    "\n",
    "\n",
    "cm_mor = confusion_matrix(y_test_lr_mor, y_prediction_lr_mor)\n",
    "plt.figure()\n",
    "sns.heatmap(cm_mor, annot=True, fmt='d', cmap='Blues', cbar=False, annot_kws={\"size\": 16})\n",
    "plt.xlabel('Predicted Labels')\n",
    "plt.ylabel('True Labels')\n",
    "plt.title('Confusion Matrix')\n",
    "plt.show()"
   ]
  },
  {
   "cell_type": "code",
   "execution_count": null,
   "id": "74a7f031",
   "metadata": {},
   "outputs": [],
   "source": [
    "# Again but weight towards minority class\n",
    "\n",
    "model_lr_mor = LogisticRegression(class_weight=\"balanced\", solver='liblinear', random_state=42)\n",
    "model_lr_mor.fit(X_train_lr_mor, y_train_lr_mor)\n",
    "y_prediction_lr_mor = model_lr_mor.predict(X_test_lr_mor)\n",
    "\n",
    "accuracy_mor = accuracy_score(y_test_lr_mor, y_prediction_lr_mor)\n",
    "print(\"Accuracy:\", accuracy_mor)\n",
    "\n",
    "# Classification Report\n",
    "print(\"Classification Report:\\n\", classification_report(y_test_lr_mor, y_prediction_lr_mor))\n",
    "\n",
    "cm_mor2 = confusion_matrix(y_test_lr_mor, y_prediction_lr_mor)\n",
    "plt.figure()\n",
    "sns.heatmap(cm_mor, annot=True, fmt='d', cmap='Blues', cbar=False, annot_kws={\"size\": 16})\n",
    "plt.xlabel('Predicted Labels')\n",
    "plt.ylabel('True Labels')\n",
    "plt.title('Confusion Matrix')\n",
    "plt.show()"
   ]
  },
  {
   "cell_type": "code",
   "execution_count": null,
   "id": "6fee87d6",
   "metadata": {},
   "outputs": [],
   "source": []
  },
  {
   "cell_type": "markdown",
   "id": "56b736b7",
   "metadata": {},
   "source": [
    "# Random Forest (ICU)"
   ]
  },
  {
   "cell_type": "code",
   "execution_count": null,
   "id": "b961a258",
   "metadata": {},
   "outputs": [],
   "source": [
    "X_rf_icu = data[['Age', 'Ht', 'Wt', 'Sex', 'OP_time', 'Open', 'Robotic', 'Videoscopic']]\n",
    "y_rf_icu = data['icu_length']\n",
    "\n",
    "X_train_rf_icu, X_test_rf_icu, y_train_rf_icu, y_test_rf_icu = train_test_split(X_rf_icu, y_rf_icu, test_size=0.2, random_state=42)\n",
    "print(f'There are {len(y_train_rf_icu)} training instances and {len(y_test_rf_icu)} testing instances')\n",
    "\n",
    "clf_icu = RandomForestClassifier(n_estimators=100, random_state=42)\n",
    "clf_icu.fit(X_train_rf_icu, y_train_rf_icu)\n",
    "\n",
    "y_pred_rf_icu = clf_icu.predict(X_test_rf_icu)\n",
    "\n",
    "\n",
    "\n",
    "accuracy_rf_icu = accuracy_score(y_test_rf_icu, y_pred_rf_icu)\n",
    "print(\"Accuracy:\", accuracy_rf_icu)\n",
    "\n",
    "# Classification Report\n",
    "print(\"Classification Report:\\n\", classification_report(y_test_rf_icu, y_pred_rf_icu))\n",
    "\n",
    "cm_rf_icu = confusion_matrix(y_test_rf_icu, y_pred_rf_icu)\n",
    "\n",
    "plt.figure()\n",
    "sns.heatmap(cm_rf_icu, annot=True, fmt='d', cmap='Blues', cbar=False, annot_kws={\"size\": 16})\n",
    "plt.xlabel('Predicted Labels')\n",
    "plt.ylabel('True Labels')\n",
    "plt.title('Confusion Matrix')\n",
    "plt.show()"
   ]
  },
  {
   "cell_type": "markdown",
   "id": "643e21c5",
   "metadata": {},
   "source": [
    "# XGBoost (ICU)"
   ]
  },
  {
   "cell_type": "code",
   "execution_count": 3,
   "id": "c24da884",
   "metadata": {
    "scrolled": false
   },
   "outputs": [
    {
     "name": "stdout",
     "output_type": "stream",
     "text": [
      "There are 913 training instances and 229 testing instances\n",
      "Accuracy: 0.6943231441048034\n",
      "Classification Report:\n",
      "               precision    recall  f1-score   support\n",
      "\n",
      "           0       0.73      0.82      0.77       146\n",
      "           1       0.60      0.47      0.53        83\n",
      "\n",
      "    accuracy                           0.69       229\n",
      "   macro avg       0.67      0.65      0.65       229\n",
      "weighted avg       0.68      0.69      0.68       229\n",
      "\n"
     ]
    },
    {
     "data": {
      "image/png": "[encoded data removed]",
      "text/plain": [
       "<Figure size 640x480 with 1 Axes>"
      ]
     },
     "metadata": {},
     "output_type": "display_data"
    }
   ],
   "source": [
    "X_xgb_icu = data[['Age', 'Ht', 'Wt', 'Sex', 'OP_time', 'Open', 'Robotic', 'Videoscopic']]\n",
    "y_xgb_icu = data['icu_length']\n",
    "\n",
    "X_train_xgb_icu, X_test_xgb_icu, y_train_xgb_icu, y_test_xgb_icu = train_test_split(X_xgb_icu, y_xgb_icu, test_size=0.2, random_state=42)\n",
    "print(f'There are {len(y_train_xgb_icu)} training instances and {len(y_test_xgb_icu)} testing instances')\n",
    "\n",
    "xgb_icu = xgb.XGBClassifier()\n",
    "xgb_icu.fit(X_train_xgb_icu, y_train_xgb_icu)\n",
    "\n",
    "y_pred_xgb_icu = xgb_icu.predict(X_test_xgb_icu)\n",
    "\n",
    "\n",
    "\n",
    "accuracy_xgb_icu = accuracy_score(y_test_xgb_icu, y_pred_xgb_icu)\n",
    "print(\"Accuracy:\", accuracy_xgb_icu)\n",
    "\n",
    "# Classification Report\n",
    "print(\"Classification Report:\\n\", classification_report(y_test_xgb_icu, y_pred_xgb_icu))\n",
    "\n",
    "cm_xgb_icu = confusion_matrix(y_test_xgb_icu, y_pred_xgb_icu)\n",
    "\n",
    "plt.figure()\n",
    "sns.heatmap(cm_xgb_icu, annot=True, fmt='d', cmap='Blues', cbar=False, annot_kws={\"size\": 16})\n",
    "plt.xlabel('Predicted Labels')\n",
    "plt.ylabel('True Labels')\n",
    "plt.title('Confusion Matrix')\n",
    "plt.show()"
   ]
  },
  {
   "cell_type": "markdown",
   "id": "c9939fa7",
   "metadata": {},
   "source": [
    "# XGBoost Regression (Length of ICU Stay)"
   ]
  },
  {
   "cell_type": "code",
   "execution_count": 6,
   "id": "973f1f39",
   "metadata": {},
   "outputs": [
    {
     "name": "stdout",
     "output_type": "stream",
     "text": [
      "There are 913 training instances and 229 testing instances\n"
     ]
    },
    {
     "data": {
      "text/plain": [
       "(array([190.,  19.,  10.,   1.,   1.,   1.,   5.,   0.,   1.,   1.]),\n",
       " array([ 1. ,  3.5,  6. ,  8.5, 11. , 13.5, 16. , 18.5, 21. , 23.5, 26. ]),\n",
       " <BarContainer object of 10 artists>)"
      ]
     },
     "execution_count": 6,
     "metadata": {},
     "output_type": "execute_result"
    },
    {
     "data": {
      "image/png": "[encoded data removed]",
      "text/plain": [
       "<Figure size 640x480 with 1 Axes>"
      ]
     },
     "metadata": {},
     "output_type": "display_data"
    }
   ],
   "source": [
    "# select the relevant variables\n",
    "X_xgb_licu = data[['Age', 'Ht', 'Wt', 'Sex', 'OP_time', 'Open', 'Robotic', 'Videoscopic']]\n",
    "y_xgb_licu = data['icu_days']\n",
    "\n",
    "# test/train split\n",
    "X_train_xgb_licu, X_test_xgb_licu, y_train_xgb_licu, y_test_xgb_licu = train_test_split(X_xgb_licu, y_xgb_licu, test_size=0.2, random_state=10)\n",
    "\n",
    "print(f'There are {len(y_train_xgb_licu)} training instances and {len(y_test_xgb_licu)} testing instances')\n",
    "\n",
    "# train the model and make predictions\n",
    "xgb_licu = xgb.XGBRegressor()\n",
    "xgb_licu.fit(X_train_xgb_licu, y_train_xgb_licu)\n",
    "\n",
    "y_pred_xgb_licu = xgb_licu.predict(X_test_xgb_licu)\n",
    "\n",
    "plt.figure()\n",
    "plt.hist(y_test_xgb_licu)"
   ]
  },
  {
   "cell_type": "code",
   "execution_count": 7,
   "id": "86f8e28f",
   "metadata": {},
   "outputs": [
    {
     "name": "stdout",
     "output_type": "stream",
     "text": [
      "The feature variables explain -389.212094052777% of the variance in number of ICU days\n",
      "The root mean squared error is 7.644859153090583\n"
     ]
    },
    {
     "data": {
      "image/png": "[encoded data removed]",
      "text/plain": [
       "<Figure size 640x480 with 1 Axes>"
      ]
     },
     "metadata": {},
     "output_type": "display_data"
    }
   ],
   "source": [
    "# Coefficient of Determination (R²):\n",
    "# R² explains the proportion of variance in the target variable that is explained by the predictors.\n",
    "r2_xgb_licu = r2_score(y_test_xgb_licu, y_pred_xgb_licu)\n",
    "print(f'The feature variables explain {100*r2_xgb_licu}% of the variance in number of ICU days')\n",
    "\n",
    "rmse_xgb_licu = mean_squared_error(y_test_xgb_licu, y_pred_xgb_licu, squared = False)\n",
    "print(f'The root mean squared error is {rmse_xgb_licu}')\n",
    "\n",
    "# plotting residuals\n",
    "residuals_xgb_licu = y_test_xgb_licu - y_pred_xgb_licu\n",
    "plt.scatter(y_pred_xgb_licu, residuals_xgb_licu)\n",
    "plt.hlines(0, min(y_pred_xgb_licu), max(y_pred_xgb_licu), colors=\"r\", linestyles=\"dashed\")\n",
    "plt.xlabel(\"Predicted values\")\n",
    "plt.ylabel(\"Residuals\")\n",
    "plt.title(\"Residual Plot\")\n",
    "plt.show()"
   ]
  },
  {
   "cell_type": "code",
   "execution_count": null,
   "id": "c47c8a1e",
   "metadata": {},
   "outputs": [],
   "source": []
  }
 ],
 "metadata": {
  "kernelspec": {
   "display_name": "Python 3 (ipykernel)",
   "language": "python",
   "name": "python3"
  },
  "language_info": {
   "codemirror_mode": {
    "name": "ipython",
    "version": 3
   },
   "file_extension": ".py",
   "mimetype": "text/x-python",
   "name": "python",
   "nbconvert_exporter": "python",
   "pygments_lexer": "ipython3",
   "version": "3.11.7"
  }
 },
 "nbformat": 4,
 "nbformat_minor": 5
}
