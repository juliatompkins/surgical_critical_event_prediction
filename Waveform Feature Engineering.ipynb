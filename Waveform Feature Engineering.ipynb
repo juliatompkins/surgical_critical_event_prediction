{
 "cells": [
  {
   "cell_type": "markdown",
   "id": "504d7497",
   "metadata": {},
   "source": [
    "# Waveform Feature Engineering"
   ]
  },
  {
   "cell_type": "markdown",
   "id": "b2a95d0e",
   "metadata": {},
   "source": [
    "ChatGPT brainstorming: https://chatgpt.com/share/671bbf0a-6bd4-8005-9c19-b69fcc874e7f"
   ]
  },
  {
   "cell_type": "code",
   "execution_count": 1,
   "id": "8dbd1b70",
   "metadata": {},
   "outputs": [],
   "source": [
    "import numpy as np\n",
    "import pandas as pd\n",
    "import matplotlib.pyplot as plt\n",
    "from scipy import stats\n",
    "import scipy.signal as signal\n",
    "import seaborn as sns\n",
    "from scipy.spatial import distance\n",
    "import neurokit2 as nk\n",
    "import time"
   ]
  },
  {
   "cell_type": "code",
   "execution_count": 2,
   "id": "dbaf7855",
   "metadata": {},
   "outputs": [],
   "source": [
    "df_info = pd.read_csv(\"https://api.vitaldb.net/cases\")\n",
    "df_ids = pd.read_csv(\"https://api.vitaldb.net/trks\")"
   ]
  },
  {
   "cell_type": "code",
   "execution_count": 3,
   "id": "a786cac5",
   "metadata": {},
   "outputs": [],
   "source": [
    "def get_data_for(tid):\n",
    "    data = pd.read_csv(f\"https://api.vitaldb.net/{tid}\")\n",
    "    arr = np.array(data['SNUADC/ECG_II'])\n",
    "    time_array = np.linspace(0, np.array(data['Time'])[-1], len(data))\n",
    "    return time_array, arr"
   ]
  },
  {
   "cell_type": "code",
   "execution_count": 4,
   "id": "56224b61",
   "metadata": {},
   "outputs": [
    {
     "data": {
      "text/html": [
       "<div>\n",
       "<style scoped>\n",
       "    .dataframe tbody tr th:only-of-type {\n",
       "        vertical-align: middle;\n",
       "    }\n",
       "\n",
       "    .dataframe tbody tr th {\n",
       "        vertical-align: top;\n",
       "    }\n",
       "\n",
       "    .dataframe thead th {\n",
       "        text-align: right;\n",
       "    }\n",
       "</style>\n",
       "<table border=\"1\" class=\"dataframe\">\n",
       "  <thead>\n",
       "    <tr style=\"text-align: right;\">\n",
       "      <th></th>\n",
       "      <th>caseid</th>\n",
       "      <th>subjectid</th>\n",
       "      <th>Age</th>\n",
       "      <th>Ht</th>\n",
       "      <th>Wt</th>\n",
       "      <th>Sex</th>\n",
       "      <th>OP_time</th>\n",
       "      <th>Open</th>\n",
       "      <th>Robotic</th>\n",
       "      <th>Videoscopic</th>\n",
       "      <th>icu_days</th>\n",
       "      <th>death_inhosp</th>\n",
       "      <th>age_group</th>\n",
       "      <th>icu_length</th>\n",
       "      <th>Mahalanobis</th>\n",
       "    </tr>\n",
       "  </thead>\n",
       "  <tbody>\n",
       "    <tr>\n",
       "      <th>0</th>\n",
       "      <td>55</td>\n",
       "      <td>5077</td>\n",
       "      <td>18.0</td>\n",
       "      <td>175.1</td>\n",
       "      <td>59.2</td>\n",
       "      <td>0</td>\n",
       "      <td>292.55</td>\n",
       "      <td>1</td>\n",
       "      <td>0</td>\n",
       "      <td>0</td>\n",
       "      <td>3</td>\n",
       "      <td>0</td>\n",
       "      <td>child</td>\n",
       "      <td>1</td>\n",
       "      <td>2.082258</td>\n",
       "    </tr>\n",
       "    <tr>\n",
       "      <th>1</th>\n",
       "      <td>264</td>\n",
       "      <td>10</td>\n",
       "      <td>0.7</td>\n",
       "      <td>64.1</td>\n",
       "      <td>8.9</td>\n",
       "      <td>1</td>\n",
       "      <td>475.00</td>\n",
       "      <td>1</td>\n",
       "      <td>0</td>\n",
       "      <td>0</td>\n",
       "      <td>38</td>\n",
       "      <td>0</td>\n",
       "      <td>child</td>\n",
       "      <td>1</td>\n",
       "      <td>2.051887</td>\n",
       "    </tr>\n",
       "    <tr>\n",
       "      <th>2</th>\n",
       "      <td>280</td>\n",
       "      <td>5985</td>\n",
       "      <td>0.6</td>\n",
       "      <td>42.0</td>\n",
       "      <td>5.6</td>\n",
       "      <td>1</td>\n",
       "      <td>435.00</td>\n",
       "      <td>1</td>\n",
       "      <td>0</td>\n",
       "      <td>0</td>\n",
       "      <td>15</td>\n",
       "      <td>0</td>\n",
       "      <td>child</td>\n",
       "      <td>1</td>\n",
       "      <td>2.553821</td>\n",
       "    </tr>\n",
       "    <tr>\n",
       "      <th>3</th>\n",
       "      <td>366</td>\n",
       "      <td>10</td>\n",
       "      <td>0.8</td>\n",
       "      <td>64.1</td>\n",
       "      <td>8.9</td>\n",
       "      <td>1</td>\n",
       "      <td>115.00</td>\n",
       "      <td>1</td>\n",
       "      <td>0</td>\n",
       "      <td>0</td>\n",
       "      <td>38</td>\n",
       "      <td>0</td>\n",
       "      <td>child</td>\n",
       "      <td>1</td>\n",
       "      <td>1.676772</td>\n",
       "    </tr>\n",
       "    <tr>\n",
       "      <th>4</th>\n",
       "      <td>527</td>\n",
       "      <td>4603</td>\n",
       "      <td>18.0</td>\n",
       "      <td>185.0</td>\n",
       "      <td>62.6</td>\n",
       "      <td>0</td>\n",
       "      <td>210.00</td>\n",
       "      <td>1</td>\n",
       "      <td>0</td>\n",
       "      <td>0</td>\n",
       "      <td>1</td>\n",
       "      <td>0</td>\n",
       "      <td>child</td>\n",
       "      <td>0</td>\n",
       "      <td>1.775898</td>\n",
       "    </tr>\n",
       "  </tbody>\n",
       "</table>\n",
       "</div>"
      ],
      "text/plain": [
       "   caseid  subjectid   Age     Ht    Wt  Sex  OP_time  Open  Robotic  \\\n",
       "0      55       5077  18.0  175.1  59.2    0   292.55     1        0   \n",
       "1     264         10   0.7   64.1   8.9    1   475.00     1        0   \n",
       "2     280       5985   0.6   42.0   5.6    1   435.00     1        0   \n",
       "3     366         10   0.8   64.1   8.9    1   115.00     1        0   \n",
       "4     527       4603  18.0  185.0  62.6    0   210.00     1        0   \n",
       "\n",
       "   Videoscopic  icu_days  death_inhosp age_group  icu_length  Mahalanobis  \n",
       "0            0         3             0     child           1     2.082258  \n",
       "1            0        38             0     child           1     2.051887  \n",
       "2            0        15             0     child           1     2.553821  \n",
       "3            0        38             0     child           1     1.676772  \n",
       "4            0         1             0     child           0     1.775898  "
      ]
     },
     "execution_count": 4,
     "metadata": {},
     "output_type": "execute_result"
    }
   ],
   "source": [
    "data = pd.read_csv('data_icu.csv')\n",
    "data.head()"
   ]
  },
  {
   "cell_type": "code",
   "execution_count": 5,
   "id": "54b52c47",
   "metadata": {},
   "outputs": [],
   "source": [
    "ecg_time, ecg_data = get_data_for(\"cedfc6b4610363ed0ac5a4ac4a23e007bda34fe6\")\n",
    "fs = 500\n",
    "valid_data = ecg_data[(ecg_time > 900) & (ecg_time < ecg_time[-1]-900)]\n",
    "valid_time = ecg_time[(ecg_time > 900) & (ecg_time < ecg_time[-1]-900)]\n",
    "small_time = valid_time[15000:30000]\n",
    "small_data = valid_data[15000:30000]"
   ]
  },
  {
   "cell_type": "code",
   "execution_count": 6,
   "id": "e4c7dfd0",
   "metadata": {},
   "outputs": [
    {
     "data": {
      "image/png": "[encoded data removed]",
      "text/plain": [
       "<Figure size 1800x600 with 3 Axes>"
      ]
     },
     "metadata": {},
     "output_type": "display_data"
    }
   ],
   "source": [
    "fig, axs = plt.subplots(1, 3, figsize=(18, 6))\n",
    "\n",
    "axs[0].plot(ecg_time,ecg_data)\n",
    "axs[0].set_title('Full ECG Data')\n",
    "axs[1].plot(valid_time,valid_data)\n",
    "axs[1].set_title('Removed First + Last 15 Minutes')\n",
    "axs[2].plot(small_time,small_data)\n",
    "axs[2].set_title('30 Second Sample')\n",
    "\n",
    "plt.tight_layout()\n",
    "plt.show()"
   ]
  },
  {
   "cell_type": "markdown",
   "id": "ed3253af",
   "metadata": {},
   "source": [
    "# Approach 1: Sample Entropy"
   ]
  },
  {
   "cell_type": "markdown",
   "id": "22e97c6c",
   "metadata": {},
   "source": [
    "One idea for a feature is the *sample entropy* of the waveform. Sample Entropy is a measure of the complexity and irregularity of a time series. Essentially, it quantifies how predictable the data is over time. In a routine surgery, sample entropy for ECG data should be quite low. Higher sample entropy values indicate more complex and less predictable heart activity, while lower values suggest more regular and stable rhythms."
   ]
  },
  {
   "cell_type": "markdown",
   "id": "1d88783f",
   "metadata": {},
   "source": [
    "The original sample entropy has time complexity $O(n^2)$, which is far too slow for our very long signals. To shorten the time, we first downsampled the signal by a factor of 10 (essentially sampling at 50 Hz instead of 500 Hz) to reduce our number of data points. Then, we used segment-based sample entropy. Sample entropy compares every sample to every other sample, so by doing it in segments, we have a lot less to compare, and therefore a faster runtime. Finally, we took both the mean and the max of all of the samples, and we will see when we run this function on all of the data which one makes the most sense to use."
   ]
  },
  {
   "cell_type": "code",
   "execution_count": 7,
   "id": "dc8be9b6",
   "metadata": {},
   "outputs": [],
   "source": [
    "def calculate_sampen(signal, m, r):\n",
    "    N = len(signal)\n",
    "    \n",
    "    def _phi(m):\n",
    "        count = 0\n",
    "        # create segments of length m\n",
    "        for i in range(N - m):\n",
    "            template = signal[i:i + m]\n",
    "            # compare all segments to all other segments\n",
    "            for j in range(i + 1, N - m):\n",
    "                if np.max(np.abs(template - signal[j:j + m])) <= r:\n",
    "                    count += 1\n",
    "        return count / (N - m) / (N - m - 1)\n",
    "    \n",
    "    # formula for sample entropy\n",
    "    return -np.log(_phi(m + 1) / _phi(m)) if _phi(m) > 0 else np.inf"
   ]
  },
  {
   "cell_type": "code",
   "execution_count": 8,
   "id": "09249437",
   "metadata": {},
   "outputs": [],
   "source": [
    "def segment_based_sampen(ecg_signal, segment_length, m, r, downsample_factor=1):\n",
    "    N = len(ecg_signal)\n",
    "    num_segments = N // segment_length\n",
    "    sampen_values = []\n",
    "    \n",
    "    for i in range(num_segments):\n",
    "        # extract the segment\n",
    "        segment = ecg_signal[i * segment_length : (i + 1) * segment_length]\n",
    "        \n",
    "        # downsample the segment\n",
    "        if downsample_factor > 1:\n",
    "            segment = segment[::downsample_factor]\n",
    "        \n",
    "        # calculate SampEn for the segment\n",
    "        sampen_value = calculate_sampen(segment, m, r)\n",
    "        sampen_values.append(sampen_value)\n",
    "        \n",
    "    return np.mean(sampen_values), np.max(sampen_values)"
   ]
  },
  {
   "cell_type": "code",
   "execution_count": 9,
   "id": "32b48434",
   "metadata": {},
   "outputs": [
    {
     "name": "stdout",
     "output_type": "stream",
     "text": [
      "One Sample Entropy measure calculated in 603.613 seconds\n",
      "Mean Sample Entropy: 0.1555304471671046\n",
      "Maximum Sample Entropy: 0.6787584431078458\n"
     ]
    }
   ],
   "source": [
    "segment_length = 1000 # with downsampling, segments are 20 seconds\n",
    "m = 2 # typical for ECG data\n",
    "r = 0.2 * np.std(valid_data) # typical for ECG data\n",
    "downsample_factor = 10\n",
    "\n",
    "start_time1 = time.time()\n",
    "mean_sampen, max_sampen = segment_based_sampen(valid_data, segment_length, m, r, downsample_factor)\n",
    "end_time1 = time.time()\n",
    "\n",
    "print(f\"One Sample Entropy measure calculated in {end_time1 - start_time1:.3f} seconds\")\n",
    "print(f\"Mean Sample Entropy: {mean_sampen}\")\n",
    "print(f\"Maximum Sample Entropy: {max_sampen}\")"
   ]
  },
  {
   "cell_type": "markdown",
   "id": "0bdac357",
   "metadata": {},
   "source": [
    "This approach takes about 6-10 minutes for one patient, which means that even if we use the smaller dataset, it will take about 100-200 hours to run this for every patient."
   ]
  },
  {
   "cell_type": "markdown",
   "id": "ea4c9869",
   "metadata": {},
   "source": [
    "# Approach 2: R-R intervals and RMSSD"
   ]
  },
  {
   "cell_type": "markdown",
   "id": "cf1ae8c5",
   "metadata": {},
   "source": [
    "The second method we explored for a waveform feature was related to *R-R intevals*. The waveform from ECG data is made up of three parts, known as the QRS complex. The RR interval is the time between two R peaks. Once we have the R-R intervals, we find the RMSSD, the root mean square of successive differences. This is a good measure because it is sensitive to short-term fluctuations. In this context, this means that it could accurately capture a short adverse event. According to ChatGPT, this is also a good metric because it reflects parasympathetic nervous system activity, which makes it it a good indicator of recovery potential and stress response.\n",
    "\n",
    "Finding the R-R intervals takes a significant amount of time, and it is done with an external function, so there isn't really a way for us to make it faster. Once we have the R-R intervals, though, finding the RMSSD is easy and fast."
   ]
  },
  {
   "cell_type": "code",
   "execution_count": 10,
   "id": "0d18ee8e",
   "metadata": {},
   "outputs": [],
   "source": [
    "def rr_interval_rmssd(ecg_data, sampling_rate):\n",
    "    ecg_cleaned = nk.ecg_clean(ecg_data, sampling_rate, method=\"neurokit\")\n",
    "    ecg_signals, ecg_info = nk.ecg_process(ecg_cleaned, sampling_rate)\n",
    "    rpeaks = ecg_info['ECG_R_Peaks']\n",
    "    rr_int = np.diff(rpeaks) / 500\n",
    "    ma = np.convolve(rr_int, np.ones(50)/50)\n",
    "    ma_sampled = [ma[15*i] for i in range(int(len(ma)/15))]\n",
    "    diff = np.diff(ma_sampled)\n",
    "    rmssd = np.sqrt(np.mean(diff**2))\n",
    "    return rmssd"
   ]
  },
  {
   "cell_type": "code",
   "execution_count": 11,
   "id": "3e44f285",
   "metadata": {},
   "outputs": [
    {
     "name": "stdout",
     "output_type": "stream",
     "text": [
      "One R-R interval measure calculated in 236.302 seconds\n",
      "RMSSD: 0.029632394840593674\n"
     ]
    }
   ],
   "source": [
    "start_time2 = time.time()\n",
    "rmssd = rr_interval_rmssd(valid_data, 500)\n",
    "end_time2 = time.time()\n",
    "\n",
    "print(f'One R-R interval measure calculated in {end_time2 - start_time2:.3f} seconds')\n",
    "print(f'RMSSD: {rmssd}')"
   ]
  },
  {
   "cell_type": "markdown",
   "id": "4742878c",
   "metadata": {},
   "source": [
    "This approach takes about 3-4 minutes for one patient, which means that even if we use the smaller dataset, it will take about 50-60 hours to run this for every patient."
   ]
  },
  {
   "cell_type": "markdown",
   "id": "b8563b8e",
   "metadata": {},
   "source": [
    "# Comparing Patients"
   ]
  },
  {
   "cell_type": "markdown",
   "id": "b6f1dd74",
   "metadata": {},
   "source": [
    "We want only measurements from patients in our dataset. We also had to remove 6 surgeries because they did not have ECG data, leaving us with 1136 instances."
   ]
  },
  {
   "cell_type": "code",
   "execution_count": 12,
   "id": "f5ca5120",
   "metadata": {},
   "outputs": [
    {
     "data": {
      "text/html": [
       "<div>\n",
       "<style scoped>\n",
       "    .dataframe tbody tr th:only-of-type {\n",
       "        vertical-align: middle;\n",
       "    }\n",
       "\n",
       "    .dataframe tbody tr th {\n",
       "        vertical-align: top;\n",
       "    }\n",
       "\n",
       "    .dataframe thead th {\n",
       "        text-align: right;\n",
       "    }\n",
       "</style>\n",
       "<table border=\"1\" class=\"dataframe\">\n",
       "  <thead>\n",
       "    <tr style=\"text-align: right;\">\n",
       "      <th></th>\n",
       "      <th>caseid</th>\n",
       "      <th>tname</th>\n",
       "      <th>tid</th>\n",
       "    </tr>\n",
       "  </thead>\n",
       "  <tbody>\n",
       "    <tr>\n",
       "      <th>279</th>\n",
       "      <td>4</td>\n",
       "      <td>SNUADC/ECG_II</td>\n",
       "      <td>be29325ee538657798f5c804bf72596fb3fd47ea</td>\n",
       "    </tr>\n",
       "    <tr>\n",
       "      <th>366</th>\n",
       "      <td>5</td>\n",
       "      <td>SNUADC/ECG_II</td>\n",
       "      <td>3431cd35ca4bc15b6de13e4c49b2db56e6bc5a37</td>\n",
       "    </tr>\n",
       "    <tr>\n",
       "      <th>521</th>\n",
       "      <td>7</td>\n",
       "      <td>SNUADC/ECG_II</td>\n",
       "      <td>f5bdb6cceb16a2f45ad0df54d3736126d7d076bd</td>\n",
       "    </tr>\n",
       "    <tr>\n",
       "      <th>754</th>\n",
       "      <td>10</td>\n",
       "      <td>SNUADC/ECG_II</td>\n",
       "      <td>c31fe646f6619757dec89dd37bdcf19731226366</td>\n",
       "    </tr>\n",
       "    <tr>\n",
       "      <th>1276</th>\n",
       "      <td>17</td>\n",
       "      <td>SNUADC/ECG_II</td>\n",
       "      <td>0eef4128d27d9a23c25b7658dfbece0dfeb4c596</td>\n",
       "    </tr>\n",
       "  </tbody>\n",
       "</table>\n",
       "</div>"
      ],
      "text/plain": [
       "      caseid          tname                                       tid\n",
       "279        4  SNUADC/ECG_II  be29325ee538657798f5c804bf72596fb3fd47ea\n",
       "366        5  SNUADC/ECG_II  3431cd35ca4bc15b6de13e4c49b2db56e6bc5a37\n",
       "521        7  SNUADC/ECG_II  f5bdb6cceb16a2f45ad0df54d3736126d7d076bd\n",
       "754       10  SNUADC/ECG_II  c31fe646f6619757dec89dd37bdcf19731226366\n",
       "1276      17  SNUADC/ECG_II  0eef4128d27d9a23c25b7658dfbece0dfeb4c596"
      ]
     },
     "execution_count": 12,
     "metadata": {},
     "output_type": "execute_result"
    }
   ],
   "source": [
    "patient_ecgs = df_ids[(df_ids['tname']=='SNUADC/ECG_II') & (df_ids['caseid'].isin(data['caseid']))]\n",
    "patient_ecgs.head()"
   ]
  },
  {
   "cell_type": "code",
   "execution_count": 13,
   "id": "16bad30a",
   "metadata": {},
   "outputs": [
    {
     "name": "stdout",
     "output_type": "stream",
     "text": [
      "6 patients do not have ECG measurements\n"
     ]
    },
    {
     "data": {
      "text/html": [
       "<div>\n",
       "<style scoped>\n",
       "    .dataframe tbody tr th:only-of-type {\n",
       "        vertical-align: middle;\n",
       "    }\n",
       "\n",
       "    .dataframe tbody tr th {\n",
       "        vertical-align: top;\n",
       "    }\n",
       "\n",
       "    .dataframe thead th {\n",
       "        text-align: right;\n",
       "    }\n",
       "</style>\n",
       "<table border=\"1\" class=\"dataframe\">\n",
       "  <thead>\n",
       "    <tr style=\"text-align: right;\">\n",
       "      <th></th>\n",
       "      <th>caseid</th>\n",
       "      <th>subjectid</th>\n",
       "      <th>Age</th>\n",
       "      <th>Ht</th>\n",
       "      <th>Wt</th>\n",
       "      <th>Sex</th>\n",
       "      <th>OP_time</th>\n",
       "      <th>Open</th>\n",
       "      <th>Robotic</th>\n",
       "      <th>Videoscopic</th>\n",
       "      <th>icu_days</th>\n",
       "      <th>death_inhosp</th>\n",
       "      <th>age_group</th>\n",
       "      <th>icu_length</th>\n",
       "      <th>Mahalanobis</th>\n",
       "    </tr>\n",
       "  </thead>\n",
       "  <tbody>\n",
       "    <tr>\n",
       "      <th>231</th>\n",
       "      <td>2498</td>\n",
       "      <td>1915</td>\n",
       "      <td>51.0</td>\n",
       "      <td>153.6</td>\n",
       "      <td>68.5</td>\n",
       "      <td>1</td>\n",
       "      <td>155.00</td>\n",
       "      <td>0</td>\n",
       "      <td>0</td>\n",
       "      <td>1</td>\n",
       "      <td>1</td>\n",
       "      <td>0</td>\n",
       "      <td>adult</td>\n",
       "      <td>0</td>\n",
       "      <td>2.170664</td>\n",
       "    </tr>\n",
       "    <tr>\n",
       "      <th>346</th>\n",
       "      <td>3865</td>\n",
       "      <td>1622</td>\n",
       "      <td>54.0</td>\n",
       "      <td>172.2</td>\n",
       "      <td>68.1</td>\n",
       "      <td>0</td>\n",
       "      <td>190.00</td>\n",
       "      <td>0</td>\n",
       "      <td>0</td>\n",
       "      <td>1</td>\n",
       "      <td>1</td>\n",
       "      <td>0</td>\n",
       "      <td>adult</td>\n",
       "      <td>0</td>\n",
       "      <td>0.968997</td>\n",
       "    </tr>\n",
       "    <tr>\n",
       "      <th>374</th>\n",
       "      <td>4124</td>\n",
       "      <td>1888</td>\n",
       "      <td>58.0</td>\n",
       "      <td>173.6</td>\n",
       "      <td>53.5</td>\n",
       "      <td>0</td>\n",
       "      <td>155.00</td>\n",
       "      <td>1</td>\n",
       "      <td>0</td>\n",
       "      <td>0</td>\n",
       "      <td>1</td>\n",
       "      <td>0</td>\n",
       "      <td>adult</td>\n",
       "      <td>0</td>\n",
       "      <td>2.005130</td>\n",
       "    </tr>\n",
       "    <tr>\n",
       "      <th>856</th>\n",
       "      <td>3066</td>\n",
       "      <td>4648</td>\n",
       "      <td>76.0</td>\n",
       "      <td>168.1</td>\n",
       "      <td>70.3</td>\n",
       "      <td>0</td>\n",
       "      <td>57.15</td>\n",
       "      <td>1</td>\n",
       "      <td>0</td>\n",
       "      <td>0</td>\n",
       "      <td>4</td>\n",
       "      <td>0</td>\n",
       "      <td>elder</td>\n",
       "      <td>1</td>\n",
       "      <td>1.827845</td>\n",
       "    </tr>\n",
       "    <tr>\n",
       "      <th>889</th>\n",
       "      <td>3498</td>\n",
       "      <td>5920</td>\n",
       "      <td>69.0</td>\n",
       "      <td>160.0</td>\n",
       "      <td>61.3</td>\n",
       "      <td>1</td>\n",
       "      <td>155.00</td>\n",
       "      <td>0</td>\n",
       "      <td>0</td>\n",
       "      <td>1</td>\n",
       "      <td>1</td>\n",
       "      <td>0</td>\n",
       "      <td>elder</td>\n",
       "      <td>0</td>\n",
       "      <td>2.205778</td>\n",
       "    </tr>\n",
       "    <tr>\n",
       "      <th>980</th>\n",
       "      <td>4590</td>\n",
       "      <td>6013</td>\n",
       "      <td>71.0</td>\n",
       "      <td>163.5</td>\n",
       "      <td>64.6</td>\n",
       "      <td>0</td>\n",
       "      <td>235.00</td>\n",
       "      <td>0</td>\n",
       "      <td>0</td>\n",
       "      <td>1</td>\n",
       "      <td>1</td>\n",
       "      <td>0</td>\n",
       "      <td>elder</td>\n",
       "      <td>0</td>\n",
       "      <td>0.994796</td>\n",
       "    </tr>\n",
       "  </tbody>\n",
       "</table>\n",
       "</div>"
      ],
      "text/plain": [
       "     caseid  subjectid   Age     Ht    Wt  Sex  OP_time  Open  Robotic  \\\n",
       "231    2498       1915  51.0  153.6  68.5    1   155.00     0        0   \n",
       "346    3865       1622  54.0  172.2  68.1    0   190.00     0        0   \n",
       "374    4124       1888  58.0  173.6  53.5    0   155.00     1        0   \n",
       "856    3066       4648  76.0  168.1  70.3    0    57.15     1        0   \n",
       "889    3498       5920  69.0  160.0  61.3    1   155.00     0        0   \n",
       "980    4590       6013  71.0  163.5  64.6    0   235.00     0        0   \n",
       "\n",
       "     Videoscopic  icu_days  death_inhosp age_group  icu_length  Mahalanobis  \n",
       "231            1         1             0     adult           0     2.170664  \n",
       "346            1         1             0     adult           0     0.968997  \n",
       "374            0         1             0     adult           0     2.005130  \n",
       "856            0         4             0     elder           1     1.827845  \n",
       "889            1         1             0     elder           0     2.205778  \n",
       "980            1         1             0     elder           0     0.994796  "
      ]
     },
     "execution_count": 13,
     "metadata": {},
     "output_type": "execute_result"
    }
   ],
   "source": [
    "print(f'{len(data[~data[\"caseid\"].isin(patient_ecgs[\"caseid\"])])} patients do not have ECG measurements')\n",
    "data[~data[\"caseid\"].isin(patient_ecgs[\"caseid\"])]"
   ]
  },
  {
   "cell_type": "code",
   "execution_count": 14,
   "id": "19391b2b",
   "metadata": {},
   "outputs": [],
   "source": [
    "data = data[data['caseid'].isin(patient_ecgs['caseid'])]"
   ]
  },
  {
   "cell_type": "markdown",
   "id": "9cef9166",
   "metadata": {},
   "source": [
    "Before looking at all the patients, we compare 5 just to see some comparisons."
   ]
  },
  {
   "cell_type": "code",
   "execution_count": 15,
   "id": "6005dd1d",
   "metadata": {},
   "outputs": [
    {
     "name": "stdout",
     "output_type": "stream",
     "text": [
      "\n",
      "CASE 279\n",
      "\n",
      "Sample Entropy calculated in 392.727 seconds\n",
      "Mean Sample Entropy: inf\n",
      "Maximum Sample Entropy: inf\n",
      "\n"
     ]
    },
    {
     "name": "stderr",
     "output_type": "stream",
     "text": [
      "C:\\Users\\dodie\\miniconda3\\envs\\cse217a\\lib\\site-packages\\neurokit2\\ecg\\ecg_clean.py:109: NeuroKitWarning: There are 9550 missing data points in your signal. Filling missing values by using the forward filling method.\n",
      "  category=NeuroKitWarning,\n",
      "C:\\Users\\dodie\\miniconda3\\envs\\cse217a\\lib\\site-packages\\neurokit2\\signal\\signal_fixpeaks.py:307: RuntimeWarning: divide by zero encountered in true_divide\n",
      "  mrrs /= th2\n",
      "C:\\Users\\dodie\\miniconda3\\envs\\cse217a\\lib\\site-packages\\neurokit2\\signal\\signal_fixpeaks.py:307: RuntimeWarning: invalid value encountered in true_divide\n",
      "  mrrs /= th2\n"
     ]
    },
    {
     "ename": "KeyboardInterrupt",
     "evalue": "",
     "output_type": "error",
     "traceback": [
      "\u001b[1;31m---------------------------------------------------------------------------\u001b[0m",
      "\u001b[1;31mKeyboardInterrupt\u001b[0m                         Traceback (most recent call last)",
      "\u001b[1;32m~\\AppData\\Local\\Temp\\ipykernel_30212\\3522517852.py\u001b[0m in \u001b[0;36m<module>\u001b[1;34m\u001b[0m\n\u001b[0;32m     20\u001b[0m \u001b[1;33m\u001b[0m\u001b[0m\n\u001b[0;32m     21\u001b[0m     \u001b[0mstart_time2\u001b[0m \u001b[1;33m=\u001b[0m \u001b[0mtime\u001b[0m\u001b[1;33m.\u001b[0m\u001b[0mtime\u001b[0m\u001b[1;33m(\u001b[0m\u001b[1;33m)\u001b[0m\u001b[1;33m\u001b[0m\u001b[1;33m\u001b[0m\u001b[0m\n\u001b[1;32m---> 22\u001b[1;33m     \u001b[0mrmssd\u001b[0m \u001b[1;33m=\u001b[0m \u001b[0mrr_interval_rmssd\u001b[0m\u001b[1;33m(\u001b[0m\u001b[0mvalid_data\u001b[0m\u001b[1;33m,\u001b[0m \u001b[1;36m500\u001b[0m\u001b[1;33m)\u001b[0m\u001b[1;33m\u001b[0m\u001b[1;33m\u001b[0m\u001b[0m\n\u001b[0m\u001b[0;32m     23\u001b[0m     \u001b[0mend_time2\u001b[0m \u001b[1;33m=\u001b[0m \u001b[0mtime\u001b[0m\u001b[1;33m.\u001b[0m\u001b[0mtime\u001b[0m\u001b[1;33m(\u001b[0m\u001b[1;33m)\u001b[0m\u001b[1;33m\u001b[0m\u001b[1;33m\u001b[0m\u001b[0m\n\u001b[0;32m     24\u001b[0m \u001b[1;33m\u001b[0m\u001b[0m\n",
      "\u001b[1;32m~\\AppData\\Local\\Temp\\ipykernel_30212\\2374334249.py\u001b[0m in \u001b[0;36mrr_interval_rmssd\u001b[1;34m(ecg_data, sampling_rate)\u001b[0m\n\u001b[0;32m      1\u001b[0m \u001b[1;32mdef\u001b[0m \u001b[0mrr_interval_rmssd\u001b[0m\u001b[1;33m(\u001b[0m\u001b[0mecg_data\u001b[0m\u001b[1;33m,\u001b[0m \u001b[0msampling_rate\u001b[0m\u001b[1;33m)\u001b[0m\u001b[1;33m:\u001b[0m\u001b[1;33m\u001b[0m\u001b[1;33m\u001b[0m\u001b[0m\n\u001b[0;32m      2\u001b[0m     \u001b[0mecg_cleaned\u001b[0m \u001b[1;33m=\u001b[0m \u001b[0mnk\u001b[0m\u001b[1;33m.\u001b[0m\u001b[0mecg_clean\u001b[0m\u001b[1;33m(\u001b[0m\u001b[0mecg_data\u001b[0m\u001b[1;33m,\u001b[0m \u001b[0msampling_rate\u001b[0m\u001b[1;33m,\u001b[0m \u001b[0mmethod\u001b[0m\u001b[1;33m=\u001b[0m\u001b[1;34m\"neurokit\"\u001b[0m\u001b[1;33m)\u001b[0m\u001b[1;33m\u001b[0m\u001b[1;33m\u001b[0m\u001b[0m\n\u001b[1;32m----> 3\u001b[1;33m     \u001b[0mecg_signals\u001b[0m\u001b[1;33m,\u001b[0m \u001b[0mecg_info\u001b[0m \u001b[1;33m=\u001b[0m \u001b[0mnk\u001b[0m\u001b[1;33m.\u001b[0m\u001b[0mecg_process\u001b[0m\u001b[1;33m(\u001b[0m\u001b[0mecg_cleaned\u001b[0m\u001b[1;33m,\u001b[0m \u001b[0msampling_rate\u001b[0m\u001b[1;33m)\u001b[0m\u001b[1;33m\u001b[0m\u001b[1;33m\u001b[0m\u001b[0m\n\u001b[0m\u001b[0;32m      4\u001b[0m     \u001b[0mrpeaks\u001b[0m \u001b[1;33m=\u001b[0m \u001b[0mecg_info\u001b[0m\u001b[1;33m[\u001b[0m\u001b[1;34m'ECG_R_Peaks'\u001b[0m\u001b[1;33m]\u001b[0m\u001b[1;33m\u001b[0m\u001b[1;33m\u001b[0m\u001b[0m\n\u001b[0;32m      5\u001b[0m     \u001b[0mrr_int\u001b[0m \u001b[1;33m=\u001b[0m \u001b[0mnp\u001b[0m\u001b[1;33m.\u001b[0m\u001b[0mdiff\u001b[0m\u001b[1;33m(\u001b[0m\u001b[0mrpeaks\u001b[0m\u001b[1;33m)\u001b[0m \u001b[1;33m/\u001b[0m \u001b[1;36m500\u001b[0m\u001b[1;33m\u001b[0m\u001b[1;33m\u001b[0m\u001b[0m\n",
      "\u001b[1;32m~\\miniconda3\\envs\\cse217a\\lib\\site-packages\\neurokit2\\ecg\\ecg_process.py\u001b[0m in \u001b[0;36mecg_process\u001b[1;34m(ecg_signal, sampling_rate, method)\u001b[0m\n\u001b[0;32m    126\u001b[0m     \u001b[1;31m# Delineate QRS complex\u001b[0m\u001b[1;33m\u001b[0m\u001b[1;33m\u001b[0m\u001b[1;33m\u001b[0m\u001b[0m\n\u001b[0;32m    127\u001b[0m     delineate_signal, delineate_info = ecg_delineate(\n\u001b[1;32m--> 128\u001b[1;33m         \u001b[0mecg_cleaned\u001b[0m\u001b[1;33m=\u001b[0m\u001b[0mecg_cleaned\u001b[0m\u001b[1;33m,\u001b[0m \u001b[0mrpeaks\u001b[0m\u001b[1;33m=\u001b[0m\u001b[0minfo\u001b[0m\u001b[1;33m[\u001b[0m\u001b[1;34m\"ECG_R_Peaks\"\u001b[0m\u001b[1;33m]\u001b[0m\u001b[1;33m,\u001b[0m \u001b[0msampling_rate\u001b[0m\u001b[1;33m=\u001b[0m\u001b[0msampling_rate\u001b[0m\u001b[1;33m\u001b[0m\u001b[1;33m\u001b[0m\u001b[0m\n\u001b[0m\u001b[0;32m    129\u001b[0m     )\n\u001b[0;32m    130\u001b[0m     \u001b[0minfo\u001b[0m\u001b[1;33m.\u001b[0m\u001b[0mupdate\u001b[0m\u001b[1;33m(\u001b[0m\u001b[0mdelineate_info\u001b[0m\u001b[1;33m)\u001b[0m  \u001b[1;31m# Merge waves indices dict with info dict\u001b[0m\u001b[1;33m\u001b[0m\u001b[1;33m\u001b[0m\u001b[0m\n",
      "\u001b[1;32m~\\miniconda3\\envs\\cse217a\\lib\\site-packages\\neurokit2\\ecg\\ecg_delineate.py\u001b[0m in \u001b[0;36mecg_delineate\u001b[1;34m(ecg_cleaned, rpeaks, sampling_rate, method, show, show_type, check, **kwargs)\u001b[0m\n\u001b[0;32m    182\u001b[0m         ]\n\u001b[0;32m    183\u001b[0m \u001b[1;33m\u001b[0m\u001b[0m\n\u001b[1;32m--> 184\u001b[1;33m     \u001b[0minstant_peaks\u001b[0m \u001b[1;33m=\u001b[0m \u001b[0msignal_formatpeaks\u001b[0m\u001b[1;33m(\u001b[0m\u001b[0mwaves_noNA\u001b[0m\u001b[1;33m,\u001b[0m \u001b[0mdesired_length\u001b[0m\u001b[1;33m=\u001b[0m\u001b[0mlen\u001b[0m\u001b[1;33m(\u001b[0m\u001b[0mecg_cleaned\u001b[0m\u001b[1;33m)\u001b[0m\u001b[1;33m)\u001b[0m\u001b[1;33m\u001b[0m\u001b[1;33m\u001b[0m\u001b[0m\n\u001b[0m\u001b[0;32m    185\u001b[0m     \u001b[0msignals\u001b[0m \u001b[1;33m=\u001b[0m \u001b[0minstant_peaks\u001b[0m\u001b[1;33m\u001b[0m\u001b[1;33m\u001b[0m\u001b[0m\n\u001b[0;32m    186\u001b[0m \u001b[1;33m\u001b[0m\u001b[0m\n",
      "\u001b[1;32m~\\miniconda3\\envs\\cse217a\\lib\\site-packages\\neurokit2\\signal\\signal_formatpeaks.py\u001b[0m in \u001b[0;36msignal_formatpeaks\u001b[1;34m(info, desired_length, peak_indices, other_indices)\u001b[0m\n\u001b[0;32m     19\u001b[0m             \u001b[0mx\u001b[0m \u001b[1;32min\u001b[0m \u001b[0mstr\u001b[0m\u001b[1;33m(\u001b[0m\u001b[0mfeature\u001b[0m\u001b[1;33m)\u001b[0m \u001b[1;32mfor\u001b[0m \u001b[0mx\u001b[0m \u001b[1;32min\u001b[0m \u001b[1;33m[\u001b[0m\u001b[1;34m\"Peak\"\u001b[0m\u001b[1;33m,\u001b[0m \u001b[1;34m\"Onset\"\u001b[0m\u001b[1;33m,\u001b[0m \u001b[1;34m\"Offset\"\u001b[0m\u001b[1;33m,\u001b[0m \u001b[1;34m\"Trough\"\u001b[0m\u001b[1;33m,\u001b[0m \u001b[1;34m\"Recovery\"\u001b[0m\u001b[1;33m]\u001b[0m\u001b[1;33m\u001b[0m\u001b[1;33m\u001b[0m\u001b[0m\n\u001b[0;32m     20\u001b[0m         ):\n\u001b[1;32m---> 21\u001b[1;33m             \u001b[0msignals\u001b[0m\u001b[1;33m[\u001b[0m\u001b[0mfeature\u001b[0m\u001b[1;33m]\u001b[0m \u001b[1;33m=\u001b[0m \u001b[0m_signal_from_indices\u001b[0m\u001b[1;33m(\u001b[0m\u001b[0mvalues\u001b[0m\u001b[1;33m,\u001b[0m \u001b[0mdesired_length\u001b[0m\u001b[1;33m,\u001b[0m \u001b[1;36m1\u001b[0m\u001b[1;33m)\u001b[0m\u001b[1;33m\u001b[0m\u001b[1;33m\u001b[0m\u001b[0m\n\u001b[0m\u001b[0;32m     22\u001b[0m             \u001b[0msignals\u001b[0m\u001b[1;33m[\u001b[0m\u001b[0mfeature\u001b[0m\u001b[1;33m]\u001b[0m \u001b[1;33m=\u001b[0m \u001b[0msignals\u001b[0m\u001b[1;33m[\u001b[0m\u001b[0mfeature\u001b[0m\u001b[1;33m]\u001b[0m\u001b[1;33m.\u001b[0m\u001b[0mastype\u001b[0m\u001b[1;33m(\u001b[0m\u001b[1;34m\"int64\"\u001b[0m\u001b[1;33m)\u001b[0m  \u001b[1;31m# indexing of feature using 1 and 0\u001b[0m\u001b[1;33m\u001b[0m\u001b[1;33m\u001b[0m\u001b[0m\n\u001b[0;32m     23\u001b[0m \u001b[1;33m\u001b[0m\u001b[0m\n",
      "\u001b[1;32m~\\miniconda3\\envs\\cse217a\\lib\\site-packages\\neurokit2\\signal\\signal_formatpeaks.py\u001b[0m in \u001b[0;36m_signal_from_indices\u001b[1;34m(indices, desired_length, value)\u001b[0m\n\u001b[0;32m     73\u001b[0m     \u001b[1;31m# Appending single value\u001b[0m\u001b[1;33m\u001b[0m\u001b[1;33m\u001b[0m\u001b[1;33m\u001b[0m\u001b[0m\n\u001b[0;32m     74\u001b[0m     \u001b[1;32mif\u001b[0m \u001b[0misinstance\u001b[0m\u001b[1;33m(\u001b[0m\u001b[0mvalue\u001b[0m\u001b[1;33m,\u001b[0m \u001b[1;33m(\u001b[0m\u001b[0mint\u001b[0m\u001b[1;33m,\u001b[0m \u001b[0mfloat\u001b[0m\u001b[1;33m)\u001b[0m\u001b[1;33m)\u001b[0m\u001b[1;33m:\u001b[0m\u001b[1;33m\u001b[0m\u001b[1;33m\u001b[0m\u001b[0m\n\u001b[1;32m---> 75\u001b[1;33m         \u001b[0msignal\u001b[0m\u001b[1;33m[\u001b[0m\u001b[0mindices\u001b[0m\u001b[1;33m]\u001b[0m \u001b[1;33m=\u001b[0m \u001b[0mvalue\u001b[0m\u001b[1;33m\u001b[0m\u001b[1;33m\u001b[0m\u001b[0m\n\u001b[0m\u001b[0;32m     76\u001b[0m     \u001b[1;31m# Appending multiple values\u001b[0m\u001b[1;33m\u001b[0m\u001b[1;33m\u001b[0m\u001b[1;33m\u001b[0m\u001b[0m\n\u001b[0;32m     77\u001b[0m     \u001b[1;32melif\u001b[0m \u001b[0misinstance\u001b[0m\u001b[1;33m(\u001b[0m\u001b[0mvalue\u001b[0m\u001b[1;33m,\u001b[0m \u001b[1;33m(\u001b[0m\u001b[0mnp\u001b[0m\u001b[1;33m.\u001b[0m\u001b[0mndarray\u001b[0m\u001b[1;33m,\u001b[0m \u001b[0mlist\u001b[0m\u001b[1;33m)\u001b[0m\u001b[1;33m)\u001b[0m\u001b[1;33m:\u001b[0m\u001b[1;33m\u001b[0m\u001b[1;33m\u001b[0m\u001b[0m\n",
      "\u001b[1;32m~\\miniconda3\\envs\\cse217a\\lib\\site-packages\\pandas\\core\\series.py\u001b[0m in \u001b[0;36m__setitem__\u001b[1;34m(self, key, value)\u001b[0m\n\u001b[0;32m    941\u001b[0m \u001b[1;33m\u001b[0m\u001b[0m\n\u001b[0;32m    942\u001b[0m         \u001b[1;32mtry\u001b[0m\u001b[1;33m:\u001b[0m\u001b[1;33m\u001b[0m\u001b[1;33m\u001b[0m\u001b[0m\n\u001b[1;32m--> 943\u001b[1;33m             \u001b[0mself\u001b[0m\u001b[1;33m.\u001b[0m\u001b[0m_set_with_engine\u001b[0m\u001b[1;33m(\u001b[0m\u001b[0mkey\u001b[0m\u001b[1;33m,\u001b[0m \u001b[0mvalue\u001b[0m\u001b[1;33m)\u001b[0m\u001b[1;33m\u001b[0m\u001b[1;33m\u001b[0m\u001b[0m\n\u001b[0m\u001b[0;32m    944\u001b[0m         \u001b[1;32mexcept\u001b[0m \u001b[1;33m(\u001b[0m\u001b[0mKeyError\u001b[0m\u001b[1;33m,\u001b[0m \u001b[0mValueError\u001b[0m\u001b[1;33m)\u001b[0m\u001b[1;33m:\u001b[0m\u001b[1;33m\u001b[0m\u001b[1;33m\u001b[0m\u001b[0m\n\u001b[0;32m    945\u001b[0m             \u001b[0mvalues\u001b[0m \u001b[1;33m=\u001b[0m \u001b[0mself\u001b[0m\u001b[1;33m.\u001b[0m\u001b[0m_values\u001b[0m\u001b[1;33m\u001b[0m\u001b[1;33m\u001b[0m\u001b[0m\n",
      "\u001b[1;32m~\\miniconda3\\envs\\cse217a\\lib\\site-packages\\pandas\\core\\series.py\u001b[0m in \u001b[0;36m_set_with_engine\u001b[1;34m(self, key, value)\u001b[0m\n\u001b[0;32m    974\u001b[0m     \u001b[1;32mdef\u001b[0m \u001b[0m_set_with_engine\u001b[0m\u001b[1;33m(\u001b[0m\u001b[0mself\u001b[0m\u001b[1;33m,\u001b[0m \u001b[0mkey\u001b[0m\u001b[1;33m,\u001b[0m \u001b[0mvalue\u001b[0m\u001b[1;33m)\u001b[0m\u001b[1;33m:\u001b[0m\u001b[1;33m\u001b[0m\u001b[1;33m\u001b[0m\u001b[0m\n\u001b[0;32m    975\u001b[0m         \u001b[1;31m# fails with AttributeError for IntervalIndex\u001b[0m\u001b[1;33m\u001b[0m\u001b[1;33m\u001b[0m\u001b[1;33m\u001b[0m\u001b[0m\n\u001b[1;32m--> 976\u001b[1;33m         \u001b[0mloc\u001b[0m \u001b[1;33m=\u001b[0m \u001b[0mself\u001b[0m\u001b[1;33m.\u001b[0m\u001b[0mindex\u001b[0m\u001b[1;33m.\u001b[0m\u001b[0m_engine\u001b[0m\u001b[1;33m.\u001b[0m\u001b[0mget_loc\u001b[0m\u001b[1;33m(\u001b[0m\u001b[0mkey\u001b[0m\u001b[1;33m)\u001b[0m\u001b[1;33m\u001b[0m\u001b[1;33m\u001b[0m\u001b[0m\n\u001b[0m\u001b[0;32m    977\u001b[0m         \u001b[0mvalidate_numeric_casting\u001b[0m\u001b[1;33m(\u001b[0m\u001b[0mself\u001b[0m\u001b[1;33m.\u001b[0m\u001b[0mdtype\u001b[0m\u001b[1;33m,\u001b[0m \u001b[0mvalue\u001b[0m\u001b[1;33m)\u001b[0m\u001b[1;33m\u001b[0m\u001b[1;33m\u001b[0m\u001b[0m\n\u001b[0;32m    978\u001b[0m         \u001b[0mself\u001b[0m\u001b[1;33m.\u001b[0m\u001b[0m_values\u001b[0m\u001b[1;33m[\u001b[0m\u001b[0mloc\u001b[0m\u001b[1;33m]\u001b[0m \u001b[1;33m=\u001b[0m \u001b[0mvalue\u001b[0m\u001b[1;33m\u001b[0m\u001b[1;33m\u001b[0m\u001b[0m\n",
      "\u001b[1;32mpandas\\_libs\\properties.pyx\u001b[0m in \u001b[0;36mpandas._libs.properties.CachedProperty.__get__\u001b[1;34m()\u001b[0m\n",
      "\u001b[1;32m~\\miniconda3\\envs\\cse217a\\lib\\site-packages\\pandas\\core\\indexes\\base.py\u001b[0m in \u001b[0;36m_engine\u001b[1;34m(self)\u001b[0m\n\u001b[0;32m    578\u001b[0m         \u001b[1;31m# to avoid a reference cycle, bind `target_values` to a local variable, so\u001b[0m\u001b[1;33m\u001b[0m\u001b[1;33m\u001b[0m\u001b[1;33m\u001b[0m\u001b[0m\n\u001b[0;32m    579\u001b[0m         \u001b[1;31m# `self` is not passed into the lambda.\u001b[0m\u001b[1;33m\u001b[0m\u001b[1;33m\u001b[0m\u001b[1;33m\u001b[0m\u001b[0m\n\u001b[1;32m--> 580\u001b[1;33m         \u001b[0mtarget_values\u001b[0m \u001b[1;33m=\u001b[0m \u001b[0mself\u001b[0m\u001b[1;33m.\u001b[0m\u001b[0m_get_engine_target\u001b[0m\u001b[1;33m(\u001b[0m\u001b[1;33m)\u001b[0m\u001b[1;33m\u001b[0m\u001b[1;33m\u001b[0m\u001b[0m\n\u001b[0m\u001b[0;32m    581\u001b[0m         \u001b[1;32mreturn\u001b[0m \u001b[0mself\u001b[0m\u001b[1;33m.\u001b[0m\u001b[0m_engine_type\u001b[0m\u001b[1;33m(\u001b[0m\u001b[1;32mlambda\u001b[0m\u001b[1;33m:\u001b[0m \u001b[0mtarget_values\u001b[0m\u001b[1;33m,\u001b[0m \u001b[0mlen\u001b[0m\u001b[1;33m(\u001b[0m\u001b[0mself\u001b[0m\u001b[1;33m)\u001b[0m\u001b[1;33m)\u001b[0m\u001b[1;33m\u001b[0m\u001b[1;33m\u001b[0m\u001b[0m\n\u001b[0;32m    582\u001b[0m \u001b[1;33m\u001b[0m\u001b[0m\n",
      "\u001b[1;32m~\\miniconda3\\envs\\cse217a\\lib\\site-packages\\pandas\\core\\indexes\\base.py\u001b[0m in \u001b[0;36m_get_engine_target\u001b[1;34m(self)\u001b[0m\n\u001b[0;32m   4098\u001b[0m         \u001b[0mGet\u001b[0m \u001b[0mthe\u001b[0m \u001b[0mndarray\u001b[0m \u001b[0mthat\u001b[0m \u001b[0mwe\u001b[0m \u001b[0mcan\u001b[0m \u001b[1;32mpass\u001b[0m \u001b[0mto\u001b[0m \u001b[0mthe\u001b[0m \u001b[0mIndexEngine\u001b[0m \u001b[0mconstructor\u001b[0m\u001b[1;33m.\u001b[0m\u001b[1;33m\u001b[0m\u001b[1;33m\u001b[0m\u001b[0m\n\u001b[0;32m   4099\u001b[0m         \"\"\"\n\u001b[1;32m-> 4100\u001b[1;33m         \u001b[1;32mreturn\u001b[0m \u001b[0mself\u001b[0m\u001b[1;33m.\u001b[0m\u001b[0m_values\u001b[0m\u001b[1;33m\u001b[0m\u001b[1;33m\u001b[0m\u001b[0m\n\u001b[0m\u001b[0;32m   4101\u001b[0m \u001b[1;33m\u001b[0m\u001b[0m\n\u001b[0;32m   4102\u001b[0m     \u001b[1;33m@\u001b[0m\u001b[0mdoc\u001b[0m\u001b[1;33m(\u001b[0m\u001b[0mIndexOpsMixin\u001b[0m\u001b[1;33m.\u001b[0m\u001b[0mmemory_usage\u001b[0m\u001b[1;33m)\u001b[0m\u001b[1;33m\u001b[0m\u001b[1;33m\u001b[0m\u001b[0m\n",
      "\u001b[1;32m~\\miniconda3\\envs\\cse217a\\lib\\site-packages\\pandas\\core\\indexes\\base.py\u001b[0m in \u001b[0;36m_values\u001b[1;34m(self)\u001b[0m\n\u001b[0;32m   4092\u001b[0m         \u001b[0mvalues\u001b[0m \u001b[1;33m:\u001b[0m \u001b[0mValues\u001b[0m\u001b[1;33m\u001b[0m\u001b[1;33m\u001b[0m\u001b[0m\n\u001b[0;32m   4093\u001b[0m         \"\"\"\n\u001b[1;32m-> 4094\u001b[1;33m         \u001b[1;32mreturn\u001b[0m \u001b[0mself\u001b[0m\u001b[1;33m.\u001b[0m\u001b[0m_data\u001b[0m\u001b[1;33m\u001b[0m\u001b[1;33m\u001b[0m\u001b[0m\n\u001b[0m\u001b[0;32m   4095\u001b[0m \u001b[1;33m\u001b[0m\u001b[0m\n\u001b[0;32m   4096\u001b[0m     \u001b[1;32mdef\u001b[0m \u001b[0m_get_engine_target\u001b[0m\u001b[1;33m(\u001b[0m\u001b[0mself\u001b[0m\u001b[1;33m)\u001b[0m \u001b[1;33m->\u001b[0m \u001b[0mnp\u001b[0m\u001b[1;33m.\u001b[0m\u001b[0mndarray\u001b[0m\u001b[1;33m:\u001b[0m\u001b[1;33m\u001b[0m\u001b[1;33m\u001b[0m\u001b[0m\n",
      "\u001b[1;32mpandas\\_libs\\properties.pyx\u001b[0m in \u001b[0;36mpandas._libs.properties.CachedProperty.__get__\u001b[1;34m()\u001b[0m\n",
      "\u001b[1;32m~\\miniconda3\\envs\\cse217a\\lib\\site-packages\\pandas\\core\\indexes\\range.py\u001b[0m in \u001b[0;36m_data\u001b[1;34m(self)\u001b[0m\n\u001b[0;32m    157\u001b[0m         \u001b[0mThe\u001b[0m \u001b[0mconstructed\u001b[0m \u001b[0marray\u001b[0m \u001b[1;32mis\u001b[0m \u001b[0msaved\u001b[0m \u001b[1;32min\u001b[0m\u001b[0;31m \u001b[0m\u001b[0;31m`\u001b[0m\u001b[0;31m`\u001b[0m\u001b[0m_cache\u001b[0m\u001b[0;31m`\u001b[0m\u001b[0;31m`\u001b[0m\u001b[1;33m.\u001b[0m\u001b[1;33m\u001b[0m\u001b[1;33m\u001b[0m\u001b[0m\n\u001b[0;32m    158\u001b[0m         \"\"\"\n\u001b[1;32m--> 159\u001b[1;33m         \u001b[1;32mreturn\u001b[0m \u001b[0mnp\u001b[0m\u001b[1;33m.\u001b[0m\u001b[0marange\u001b[0m\u001b[1;33m(\u001b[0m\u001b[0mself\u001b[0m\u001b[1;33m.\u001b[0m\u001b[0mstart\u001b[0m\u001b[1;33m,\u001b[0m \u001b[0mself\u001b[0m\u001b[1;33m.\u001b[0m\u001b[0mstop\u001b[0m\u001b[1;33m,\u001b[0m \u001b[0mself\u001b[0m\u001b[1;33m.\u001b[0m\u001b[0mstep\u001b[0m\u001b[1;33m,\u001b[0m \u001b[0mdtype\u001b[0m\u001b[1;33m=\u001b[0m\u001b[0mnp\u001b[0m\u001b[1;33m.\u001b[0m\u001b[0mint64\u001b[0m\u001b[1;33m)\u001b[0m\u001b[1;33m\u001b[0m\u001b[1;33m\u001b[0m\u001b[0m\n\u001b[0m\u001b[0;32m    160\u001b[0m \u001b[1;33m\u001b[0m\u001b[0m\n\u001b[0;32m    161\u001b[0m     \u001b[1;33m@\u001b[0m\u001b[0mcache_readonly\u001b[0m\u001b[1;33m\u001b[0m\u001b[1;33m\u001b[0m\u001b[0m\n",
      "\u001b[1;31mKeyboardInterrupt\u001b[0m: "
     ]
    }
   ],
   "source": [
    "for i, row in patient_ecgs.iloc[:5].iterrows():\n",
    "    ecg_time, ecg_data = get_data_for(row['tid'])\n",
    "    fs = 500\n",
    "    valid_data = ecg_data[(ecg_time > 900) & (ecg_time < ecg_time[-1]-900)]\n",
    "    valid_time = ecg_time[(ecg_time > 900) & (ecg_time < ecg_time[-1]-900)]\n",
    "    segment_length = 1000 # with downsampling, segments are 20 seconds\n",
    "    m = 2 # typical for ECG data\n",
    "    r = 0.2 * np.std(valid_data) # typical for ECG data\n",
    "    downsample_factor = 10\n",
    "    \n",
    "    print(f'\\nCASE {i}\\n')\n",
    "    \n",
    "    start_time1 = time.time()\n",
    "    mean_sampen, max_sampen = segment_based_sampen(valid_data, segment_length, m, r, downsample_factor)\n",
    "    end_time1 = time.time()\n",
    "\n",
    "    print(f\"Sample Entropy calculated in {end_time1 - start_time1:.3f} seconds\")\n",
    "    print(f\"Mean Sample Entropy: {mean_sampen}\")\n",
    "    print(f\"Maximum Sample Entropy: {max_sampen}\\n\")\n",
    "    \n",
    "    start_time2 = time.time()\n",
    "    rmssd = rr_interval_rmssd(valid_data, 500)\n",
    "    end_time2 = time.time()\n",
    "\n",
    "    print(f'R-R interval measure calculated in {end_time2 - start_time2:.3f} seconds')\n",
    "    print(f'RMSSD: {rmssd}\\n')\n",
    "    "
   ]
  },
  {
   "cell_type": "code",
   "execution_count": null,
   "id": "9e3f2d8f",
   "metadata": {},
   "outputs": [],
   "source": []
  },
  {
   "cell_type": "code",
   "execution_count": null,
   "id": "1e0eed11",
   "metadata": {},
   "outputs": [],
   "source": []
  }
 ],
 "metadata": {
  "kernelspec": {
   "display_name": "Python 3 (ipykernel)",
   "language": "python",
   "name": "python3"
  },
  "language_info": {
   "codemirror_mode": {
    "name": "ipython",
    "version": 3
   },
   "file_extension": ".py",
   "mimetype": "text/x-python",
   "name": "python",
   "nbconvert_exporter": "python",
   "pygments_lexer": "ipython3",
   "version": "3.7.11"
  }
 },
 "nbformat": 4,
 "nbformat_minor": 5
}
