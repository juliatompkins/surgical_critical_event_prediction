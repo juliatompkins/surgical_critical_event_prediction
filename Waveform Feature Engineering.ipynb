{
 "cells": [
  {
   "cell_type": "markdown",
   "id": "504d7497",
   "metadata": {},
   "source": [
    "# Waveform Feature Engineering"
   ]
  },
  {
   "cell_type": "markdown",
   "id": "b2a95d0e",
   "metadata": {},
   "source": [
    "ChatGPT brainstorming: https://chatgpt.com/share/671bbf0a-6bd4-8005-9c19-b69fcc874e7f"
   ]
  },
  {
   "cell_type": "code",
   "execution_count": 1,
   "id": "8dbd1b70",
   "metadata": {},
   "outputs": [],
   "source": [
    "import numpy as np\n",
    "import pandas as pd\n",
    "import matplotlib.pyplot as plt\n",
    "from scipy import stats\n",
    "import scipy.signal as signal\n",
    "import seaborn as sns\n",
    "from scipy.spatial import distance\n",
    "import neurokit2 as nk\n",
    "import time"
   ]
  },
  {
   "cell_type": "code",
   "execution_count": 2,
   "id": "dbaf7855",
   "metadata": {},
   "outputs": [],
   "source": [
    "df_info = pd.read_csv(\"https://api.vitaldb.net/cases\")\n",
    "df_ids = pd.read_csv(\"https://api.vitaldb.net/trks\")"
   ]
  },
  {
   "cell_type": "code",
   "execution_count": 3,
   "id": "a786cac5",
   "metadata": {},
   "outputs": [],
   "source": [
    "def get_data_for(tid):\n",
    "    data = pd.read_csv(f\"https://api.vitaldb.net/{tid}\")\n",
    "    arr = np.array(data['SNUADC/ECG_II'])\n",
    "    time_array = np.linspace(0, np.array(data['Time'])[-1], len(data))\n",
    "    return time_array, arr"
   ]
  },
  {
   "cell_type": "code",
   "execution_count": 4,
   "id": "56224b61",
   "metadata": {},
   "outputs": [
    {
     "data": {
      "text/html": [
       "<div>\n",
       "<style scoped>\n",
       "    .dataframe tbody tr th:only-of-type {\n",
       "        vertical-align: middle;\n",
       "    }\n",
       "\n",
       "    .dataframe tbody tr th {\n",
       "        vertical-align: top;\n",
       "    }\n",
       "\n",
       "    .dataframe thead th {\n",
       "        text-align: right;\n",
       "    }\n",
       "</style>\n",
       "<table border=\"1\" class=\"dataframe\">\n",
       "  <thead>\n",
       "    <tr style=\"text-align: right;\">\n",
       "      <th></th>\n",
       "      <th>caseid</th>\n",
       "      <th>subjectid</th>\n",
       "      <th>Age</th>\n",
       "      <th>Ht</th>\n",
       "      <th>Wt</th>\n",
       "      <th>Sex</th>\n",
       "      <th>OP_time</th>\n",
       "      <th>Open</th>\n",
       "      <th>Robotic</th>\n",
       "      <th>Videoscopic</th>\n",
       "      <th>icu_days</th>\n",
       "      <th>death_inhosp</th>\n",
       "      <th>age_group</th>\n",
       "      <th>icu_length</th>\n",
       "      <th>Mahalanobis</th>\n",
       "    </tr>\n",
       "  </thead>\n",
       "  <tbody>\n",
       "    <tr>\n",
       "      <th>0</th>\n",
       "      <td>55</td>\n",
       "      <td>5077</td>\n",
       "      <td>18.0</td>\n",
       "      <td>175.1</td>\n",
       "      <td>59.2</td>\n",
       "      <td>0</td>\n",
       "      <td>292.55</td>\n",
       "      <td>1</td>\n",
       "      <td>0</td>\n",
       "      <td>0</td>\n",
       "      <td>3</td>\n",
       "      <td>0</td>\n",
       "      <td>child</td>\n",
       "      <td>1</td>\n",
       "      <td>2.082258</td>\n",
       "    </tr>\n",
       "    <tr>\n",
       "      <th>1</th>\n",
       "      <td>264</td>\n",
       "      <td>10</td>\n",
       "      <td>0.7</td>\n",
       "      <td>64.1</td>\n",
       "      <td>8.9</td>\n",
       "      <td>1</td>\n",
       "      <td>475.00</td>\n",
       "      <td>1</td>\n",
       "      <td>0</td>\n",
       "      <td>0</td>\n",
       "      <td>38</td>\n",
       "      <td>0</td>\n",
       "      <td>child</td>\n",
       "      <td>1</td>\n",
       "      <td>2.051887</td>\n",
       "    </tr>\n",
       "    <tr>\n",
       "      <th>2</th>\n",
       "      <td>280</td>\n",
       "      <td>5985</td>\n",
       "      <td>0.6</td>\n",
       "      <td>42.0</td>\n",
       "      <td>5.6</td>\n",
       "      <td>1</td>\n",
       "      <td>435.00</td>\n",
       "      <td>1</td>\n",
       "      <td>0</td>\n",
       "      <td>0</td>\n",
       "      <td>15</td>\n",
       "      <td>0</td>\n",
       "      <td>child</td>\n",
       "      <td>1</td>\n",
       "      <td>2.553821</td>\n",
       "    </tr>\n",
       "    <tr>\n",
       "      <th>3</th>\n",
       "      <td>366</td>\n",
       "      <td>10</td>\n",
       "      <td>0.8</td>\n",
       "      <td>64.1</td>\n",
       "      <td>8.9</td>\n",
       "      <td>1</td>\n",
       "      <td>115.00</td>\n",
       "      <td>1</td>\n",
       "      <td>0</td>\n",
       "      <td>0</td>\n",
       "      <td>38</td>\n",
       "      <td>0</td>\n",
       "      <td>child</td>\n",
       "      <td>1</td>\n",
       "      <td>1.676772</td>\n",
       "    </tr>\n",
       "    <tr>\n",
       "      <th>4</th>\n",
       "      <td>527</td>\n",
       "      <td>4603</td>\n",
       "      <td>18.0</td>\n",
       "      <td>185.0</td>\n",
       "      <td>62.6</td>\n",
       "      <td>0</td>\n",
       "      <td>210.00</td>\n",
       "      <td>1</td>\n",
       "      <td>0</td>\n",
       "      <td>0</td>\n",
       "      <td>1</td>\n",
       "      <td>0</td>\n",
       "      <td>child</td>\n",
       "      <td>0</td>\n",
       "      <td>1.775898</td>\n",
       "    </tr>\n",
       "  </tbody>\n",
       "</table>\n",
       "</div>"
      ],
      "text/plain": [
       "   caseid  subjectid   Age     Ht    Wt  Sex  OP_time  Open  Robotic  \\\n",
       "0      55       5077  18.0  175.1  59.2    0   292.55     1        0   \n",
       "1     264         10   0.7   64.1   8.9    1   475.00     1        0   \n",
       "2     280       5985   0.6   42.0   5.6    1   435.00     1        0   \n",
       "3     366         10   0.8   64.1   8.9    1   115.00     1        0   \n",
       "4     527       4603  18.0  185.0  62.6    0   210.00     1        0   \n",
       "\n",
       "   Videoscopic  icu_days  death_inhosp age_group  icu_length  Mahalanobis  \n",
       "0            0         3             0     child           1     2.082258  \n",
       "1            0        38             0     child           1     2.051887  \n",
       "2            0        15             0     child           1     2.553821  \n",
       "3            0        38             0     child           1     1.676772  \n",
       "4            0         1             0     child           0     1.775898  "
      ]
     },
     "execution_count": 4,
     "metadata": {},
     "output_type": "execute_result"
    }
   ],
   "source": [
    "data = pd.read_csv('data_icu.csv')\n",
    "data.head()"
   ]
  },
  {
   "cell_type": "code",
   "execution_count": 5,
   "id": "54b52c47",
   "metadata": {},
   "outputs": [],
   "source": [
    "ecg_time, ecg_data = get_data_for(\"cedfc6b4610363ed0ac5a4ac4a23e007bda34fe6\")\n",
    "fs = 500\n",
    "valid_data = ecg_data[(ecg_time > 900) & (ecg_time < ecg_time[-1]-900)]\n",
    "valid_time = ecg_time[(ecg_time > 900) & (ecg_time < ecg_time[-1]-900)]\n",
    "small_time = valid_time[15000:30000]\n",
    "small_data = valid_data[15000:30000]"
   ]
  },
  {
   "cell_type": "code",
   "execution_count": 6,
   "id": "e4c7dfd0",
   "metadata": {},
   "outputs": [
    {
     "data": {
      "image/png": "[encoded data removed]",
      "text/plain": [
       "<Figure size 1800x600 with 3 Axes>"
      ]
     },
     "metadata": {},
     "output_type": "display_data"
    }
   ],
   "source": [
    "fig, axs = plt.subplots(1, 3, figsize=(18, 6))\n",
    "\n",
    "axs[0].plot(ecg_time,ecg_data)\n",
    "axs[0].set_title('Full ECG Data')\n",
    "axs[1].plot(valid_time,valid_data)\n",
    "axs[1].set_title('Removed First + Last 15 Minutes')\n",
    "axs[2].plot(small_time,small_data)\n",
    "axs[2].set_title('30 Second Sample')\n",
    "\n",
    "plt.tight_layout()\n",
    "plt.show()"
   ]
  },
  {
   "cell_type": "markdown",
   "id": "ed3253af",
   "metadata": {},
   "source": [
    "# Approach 1: Sample Entropy"
   ]
  },
  {
   "cell_type": "markdown",
   "id": "22e97c6c",
   "metadata": {},
   "source": [
    "One idea for a feature is the *sample entropy* of the waveform. Sample Entropy is a measure of the complexity and irregularity of a time series. Essentially, it quantifies how predictable the data is over time. In a routine surgery, sample entropy for ECG data should be quite low. Higher sample entropy values indicate more complex and less predictable heart activity, while lower values suggest more regular and stable rhythms."
   ]
  },
  {
   "cell_type": "markdown",
   "id": "1d88783f",
   "metadata": {},
   "source": [
    "The original sample entropy has time complexity $O(n^2)$, which is far too slow for our very long signals. To shorten the time, we first downsampled the signal by a factor of 10 (essentially sampling at 50 Hz instead of 500 Hz) to reduce our number of data points. Then, we used segment-based sample entropy. Sample entropy compares every sample to every other sample, so by doing it in segments, we have a lot less to compare, and therefore a faster runtime. Finally, we took both the mean and the max of all of the samples, and we will see when we run this function on all of the data which one makes the most sense to use."
   ]
  },
  {
   "cell_type": "code",
   "execution_count": 7,
   "id": "dc8be9b6",
   "metadata": {},
   "outputs": [],
   "source": [
    "def calculate_sampen(signal, m, r):\n",
    "    N = len(signal)\n",
    "    \n",
    "    def _phi(m):\n",
    "        count = 0\n",
    "        # create segments of length m\n",
    "        for i in range(N - m):\n",
    "            template = signal[i:i + m]\n",
    "            # compare all segments to all other segments\n",
    "            for j in range(i + 1, N - m):\n",
    "                if np.max(np.abs(template - signal[j:j + m])) <= r:\n",
    "                    count += 1\n",
    "        return count / (N - m) / (N - m - 1)\n",
    "    \n",
    "    # formula for sample entropy\n",
    "    return -np.log(_phi(m + 1) / _phi(m)) if _phi(m) > 0 else np.inf"
   ]
  },
  {
   "cell_type": "code",
   "execution_count": 8,
   "id": "09249437",
   "metadata": {},
   "outputs": [],
   "source": [
    "def segment_based_sampen(ecg_signal, segment_length, m, r, downsample_factor=1):\n",
    "    N = len(ecg_signal)\n",
    "    num_segments = N // segment_length\n",
    "    sampen_values = []\n",
    "    \n",
    "    for i in range(num_segments):\n",
    "        # extract the segment\n",
    "        segment = ecg_signal[i * segment_length : (i + 1) * segment_length]\n",
    "        \n",
    "        # downsample the segment\n",
    "        if downsample_factor > 1:\n",
    "            segment = segment[::downsample_factor]\n",
    "        \n",
    "        # calculate SampEn for the segment\n",
    "        sampen_value = calculate_sampen(segment, m, r)\n",
    "        sampen_values.append(sampen_value)\n",
    "        \n",
    "    return np.mean(sampen_values), np.max(sampen_values)"
   ]
  },
  {
   "cell_type": "code",
   "execution_count": 9,
   "id": "32b48434",
   "metadata": {},
   "outputs": [
    {
     "name": "stdout",
     "output_type": "stream",
     "text": [
      "One Sample Entropy measure calculated in 113.861 seconds\n",
      "Mean Sample Entropy: 0.1555304471671046\n",
      "Maximum Sample Entropy: 0.6787584431078458\n"
     ]
    }
   ],
   "source": [
    "segment_length = 1000 # with downsampling, segments are 20 seconds\n",
    "m = 2 # typical for ECG data\n",
    "r = 0.2 * np.std(valid_data) # typical for ECG data\n",
    "downsample_factor = 10\n",
    "\n",
    "start_time1 = time.time()\n",
    "mean_sampen, max_sampen = segment_based_sampen(valid_data, segment_length, m, r, downsample_factor)\n",
    "end_time1 = time.time()\n",
    "\n",
    "print(f\"One Sample Entropy measure calculated in {end_time1 - start_time1:.3f} seconds\")\n",
    "print(f\"Mean Sample Entropy: {mean_sampen}\")\n",
    "print(f\"Maximum Sample Entropy: {max_sampen}\")"
   ]
  },
  {
   "cell_type": "markdown",
   "id": "0bdac357",
   "metadata": {},
   "source": [
    "This approach takes about 2 minutes for one patient, which means that even if we use the smaller dataset, it will take about 35 hours to run this for every patient."
   ]
  },
  {
   "cell_type": "markdown",
   "id": "ea4c9869",
   "metadata": {},
   "source": [
    "# Approach 2: R-R intervals and RMSSD"
   ]
  },
  {
   "cell_type": "markdown",
   "id": "cf1ae8c5",
   "metadata": {},
   "source": [
    "The second method we explored for a waveform feature was related to *R-R intevals*. The waveform from ECG data is made up of three parts, known as the QRS complex. The RR interval is the time between two R peaks. Once we have the R-R intervals, we find the RMSSD, the root mean square of successive differences. This is a good measure because it is sensitive to short-term fluctuations. In this context, this means that it could accurately capture a short adverse event. According to ChatGPT, this is also a good metric because it reflects parasympathetic nervous system activity, which makes it it a good indicator of recovery potential and stress response.\n",
    "\n",
    "Finding the R-R intervals takes a significant amount of time, and it is done with an external function, so there isn't really a way for us to make it faster. Once we have the R-R intervals, though, finding the RMSSD is easy and fast."
   ]
  },
  {
   "cell_type": "code",
   "execution_count": 10,
   "id": "0d18ee8e",
   "metadata": {},
   "outputs": [],
   "source": [
    "def rr_interval_rmssd(ecg_data, sampling_rate):\n",
    "    ecg_cleaned = nk.ecg_clean(ecg_data, sampling_rate, method=\"neurokit\")\n",
    "    ecg_signals, ecg_info = nk.ecg_process(ecg_cleaned, sampling_rate)\n",
    "    rpeaks = ecg_info['ECG_R_Peaks']\n",
    "    rr_int = np.diff(rpeaks) / 500\n",
    "    ma = np.convolve(rr_int, np.ones(50)/50)\n",
    "    ma_sampled = [ma[15*i] for i in range(int(len(ma)/15))]\n",
    "    diff = np.diff(ma_sampled)\n",
    "    rmssd = np.sqrt(np.mean(diff**2))\n",
    "    return rmssd"
   ]
  },
  {
   "cell_type": "code",
   "execution_count": 11,
   "id": "3e44f285",
   "metadata": {},
   "outputs": [
    {
     "name": "stdout",
     "output_type": "stream",
     "text": [
      "One R-R interval measure calculated in 30.458 seconds\n",
      "RMSSD: 0.02963239484059367\n"
     ]
    }
   ],
   "source": [
    "start_time2 = time.time()\n",
    "rmssd = rr_interval_rmssd(valid_data, 500)\n",
    "end_time2 = time.time()\n",
    "\n",
    "print(f'One R-R interval measure calculated in {end_time2 - start_time2:.3f} seconds')\n",
    "print(f'RMSSD: {rmssd}')"
   ]
  },
  {
   "cell_type": "markdown",
   "id": "4742878c",
   "metadata": {},
   "source": [
    "This approach takes about 0.5 minutes for one patient, which means that even if we use the smaller dataset, it will take about 9 hours to run this for every patient."
   ]
  },
  {
   "cell_type": "markdown",
   "id": "b8563b8e",
   "metadata": {},
   "source": [
    "# Comparing Patients"
   ]
  },
  {
   "cell_type": "markdown",
   "id": "b6f1dd74",
   "metadata": {},
   "source": [
    "We want only measurements from patients in our dataset. We also had to remove 6 surgeries because they did not have ECG data, leaving us with 1136 instances."
   ]
  },
  {
   "cell_type": "code",
   "execution_count": 12,
   "id": "f5ca5120",
   "metadata": {},
   "outputs": [
    {
     "data": {
      "text/html": [
       "<div>\n",
       "<style scoped>\n",
       "    .dataframe tbody tr th:only-of-type {\n",
       "        vertical-align: middle;\n",
       "    }\n",
       "\n",
       "    .dataframe tbody tr th {\n",
       "        vertical-align: top;\n",
       "    }\n",
       "\n",
       "    .dataframe thead th {\n",
       "        text-align: right;\n",
       "    }\n",
       "</style>\n",
       "<table border=\"1\" class=\"dataframe\">\n",
       "  <thead>\n",
       "    <tr style=\"text-align: right;\">\n",
       "      <th></th>\n",
       "      <th>caseid</th>\n",
       "      <th>tname</th>\n",
       "      <th>tid</th>\n",
       "    </tr>\n",
       "  </thead>\n",
       "  <tbody>\n",
       "    <tr>\n",
       "      <th>279</th>\n",
       "      <td>4</td>\n",
       "      <td>SNUADC/ECG_II</td>\n",
       "      <td>be29325ee538657798f5c804bf72596fb3fd47ea</td>\n",
       "    </tr>\n",
       "    <tr>\n",
       "      <th>366</th>\n",
       "      <td>5</td>\n",
       "      <td>SNUADC/ECG_II</td>\n",
       "      <td>3431cd35ca4bc15b6de13e4c49b2db56e6bc5a37</td>\n",
       "    </tr>\n",
       "    <tr>\n",
       "      <th>521</th>\n",
       "      <td>7</td>\n",
       "      <td>SNUADC/ECG_II</td>\n",
       "      <td>f5bdb6cceb16a2f45ad0df54d3736126d7d076bd</td>\n",
       "    </tr>\n",
       "    <tr>\n",
       "      <th>754</th>\n",
       "      <td>10</td>\n",
       "      <td>SNUADC/ECG_II</td>\n",
       "      <td>c31fe646f6619757dec89dd37bdcf19731226366</td>\n",
       "    </tr>\n",
       "    <tr>\n",
       "      <th>1276</th>\n",
       "      <td>17</td>\n",
       "      <td>SNUADC/ECG_II</td>\n",
       "      <td>0eef4128d27d9a23c25b7658dfbece0dfeb4c596</td>\n",
       "    </tr>\n",
       "  </tbody>\n",
       "</table>\n",
       "</div>"
      ],
      "text/plain": [
       "      caseid          tname                                       tid\n",
       "279        4  SNUADC/ECG_II  be29325ee538657798f5c804bf72596fb3fd47ea\n",
       "366        5  SNUADC/ECG_II  3431cd35ca4bc15b6de13e4c49b2db56e6bc5a37\n",
       "521        7  SNUADC/ECG_II  f5bdb6cceb16a2f45ad0df54d3736126d7d076bd\n",
       "754       10  SNUADC/ECG_II  c31fe646f6619757dec89dd37bdcf19731226366\n",
       "1276      17  SNUADC/ECG_II  0eef4128d27d9a23c25b7658dfbece0dfeb4c596"
      ]
     },
     "execution_count": 12,
     "metadata": {},
     "output_type": "execute_result"
    }
   ],
   "source": [
    "patient_ecgs = df_ids[(df_ids['tname']=='SNUADC/ECG_II') & (df_ids['caseid'].isin(data['caseid']))]\n",
    "patient_ecgs.head()"
   ]
  },
  {
   "cell_type": "code",
   "execution_count": 13,
   "id": "16bad30a",
   "metadata": {},
   "outputs": [
    {
     "name": "stdout",
     "output_type": "stream",
     "text": [
      "6 patients do not have ECG measurements\n"
     ]
    },
    {
     "data": {
      "text/html": [
       "<div>\n",
       "<style scoped>\n",
       "    .dataframe tbody tr th:only-of-type {\n",
       "        vertical-align: middle;\n",
       "    }\n",
       "\n",
       "    .dataframe tbody tr th {\n",
       "        vertical-align: top;\n",
       "    }\n",
       "\n",
       "    .dataframe thead th {\n",
       "        text-align: right;\n",
       "    }\n",
       "</style>\n",
       "<table border=\"1\" class=\"dataframe\">\n",
       "  <thead>\n",
       "    <tr style=\"text-align: right;\">\n",
       "      <th></th>\n",
       "      <th>caseid</th>\n",
       "      <th>subjectid</th>\n",
       "      <th>Age</th>\n",
       "      <th>Ht</th>\n",
       "      <th>Wt</th>\n",
       "      <th>Sex</th>\n",
       "      <th>OP_time</th>\n",
       "      <th>Open</th>\n",
       "      <th>Robotic</th>\n",
       "      <th>Videoscopic</th>\n",
       "      <th>icu_days</th>\n",
       "      <th>death_inhosp</th>\n",
       "      <th>age_group</th>\n",
       "      <th>icu_length</th>\n",
       "      <th>Mahalanobis</th>\n",
       "    </tr>\n",
       "  </thead>\n",
       "  <tbody>\n",
       "    <tr>\n",
       "      <th>231</th>\n",
       "      <td>2498</td>\n",
       "      <td>1915</td>\n",
       "      <td>51.0</td>\n",
       "      <td>153.6</td>\n",
       "      <td>68.5</td>\n",
       "      <td>1</td>\n",
       "      <td>155.00</td>\n",
       "      <td>0</td>\n",
       "      <td>0</td>\n",
       "      <td>1</td>\n",
       "      <td>1</td>\n",
       "      <td>0</td>\n",
       "      <td>adult</td>\n",
       "      <td>0</td>\n",
       "      <td>2.170664</td>\n",
       "    </tr>\n",
       "    <tr>\n",
       "      <th>346</th>\n",
       "      <td>3865</td>\n",
       "      <td>1622</td>\n",
       "      <td>54.0</td>\n",
       "      <td>172.2</td>\n",
       "      <td>68.1</td>\n",
       "      <td>0</td>\n",
       "      <td>190.00</td>\n",
       "      <td>0</td>\n",
       "      <td>0</td>\n",
       "      <td>1</td>\n",
       "      <td>1</td>\n",
       "      <td>0</td>\n",
       "      <td>adult</td>\n",
       "      <td>0</td>\n",
       "      <td>0.968997</td>\n",
       "    </tr>\n",
       "    <tr>\n",
       "      <th>374</th>\n",
       "      <td>4124</td>\n",
       "      <td>1888</td>\n",
       "      <td>58.0</td>\n",
       "      <td>173.6</td>\n",
       "      <td>53.5</td>\n",
       "      <td>0</td>\n",
       "      <td>155.00</td>\n",
       "      <td>1</td>\n",
       "      <td>0</td>\n",
       "      <td>0</td>\n",
       "      <td>1</td>\n",
       "      <td>0</td>\n",
       "      <td>adult</td>\n",
       "      <td>0</td>\n",
       "      <td>2.005130</td>\n",
       "    </tr>\n",
       "    <tr>\n",
       "      <th>856</th>\n",
       "      <td>3066</td>\n",
       "      <td>4648</td>\n",
       "      <td>76.0</td>\n",
       "      <td>168.1</td>\n",
       "      <td>70.3</td>\n",
       "      <td>0</td>\n",
       "      <td>57.15</td>\n",
       "      <td>1</td>\n",
       "      <td>0</td>\n",
       "      <td>0</td>\n",
       "      <td>4</td>\n",
       "      <td>0</td>\n",
       "      <td>elder</td>\n",
       "      <td>1</td>\n",
       "      <td>1.827845</td>\n",
       "    </tr>\n",
       "    <tr>\n",
       "      <th>889</th>\n",
       "      <td>3498</td>\n",
       "      <td>5920</td>\n",
       "      <td>69.0</td>\n",
       "      <td>160.0</td>\n",
       "      <td>61.3</td>\n",
       "      <td>1</td>\n",
       "      <td>155.00</td>\n",
       "      <td>0</td>\n",
       "      <td>0</td>\n",
       "      <td>1</td>\n",
       "      <td>1</td>\n",
       "      <td>0</td>\n",
       "      <td>elder</td>\n",
       "      <td>0</td>\n",
       "      <td>2.205778</td>\n",
       "    </tr>\n",
       "    <tr>\n",
       "      <th>980</th>\n",
       "      <td>4590</td>\n",
       "      <td>6013</td>\n",
       "      <td>71.0</td>\n",
       "      <td>163.5</td>\n",
       "      <td>64.6</td>\n",
       "      <td>0</td>\n",
       "      <td>235.00</td>\n",
       "      <td>0</td>\n",
       "      <td>0</td>\n",
       "      <td>1</td>\n",
       "      <td>1</td>\n",
       "      <td>0</td>\n",
       "      <td>elder</td>\n",
       "      <td>0</td>\n",
       "      <td>0.994796</td>\n",
       "    </tr>\n",
       "  </tbody>\n",
       "</table>\n",
       "</div>"
      ],
      "text/plain": [
       "     caseid  subjectid   Age     Ht    Wt  Sex  OP_time  Open  Robotic  \\\n",
       "231    2498       1915  51.0  153.6  68.5    1   155.00     0        0   \n",
       "346    3865       1622  54.0  172.2  68.1    0   190.00     0        0   \n",
       "374    4124       1888  58.0  173.6  53.5    0   155.00     1        0   \n",
       "856    3066       4648  76.0  168.1  70.3    0    57.15     1        0   \n",
       "889    3498       5920  69.0  160.0  61.3    1   155.00     0        0   \n",
       "980    4590       6013  71.0  163.5  64.6    0   235.00     0        0   \n",
       "\n",
       "     Videoscopic  icu_days  death_inhosp age_group  icu_length  Mahalanobis  \n",
       "231            1         1             0     adult           0     2.170664  \n",
       "346            1         1             0     adult           0     0.968997  \n",
       "374            0         1             0     adult           0     2.005130  \n",
       "856            0         4             0     elder           1     1.827845  \n",
       "889            1         1             0     elder           0     2.205778  \n",
       "980            1         1             0     elder           0     0.994796  "
      ]
     },
     "execution_count": 13,
     "metadata": {},
     "output_type": "execute_result"
    }
   ],
   "source": [
    "print(f'{len(data[~data[\"caseid\"].isin(patient_ecgs[\"caseid\"])])} patients do not have ECG measurements')\n",
    "data[~data[\"caseid\"].isin(patient_ecgs[\"caseid\"])]"
   ]
  },
  {
   "cell_type": "code",
   "execution_count": 14,
   "id": "19391b2b",
   "metadata": {},
   "outputs": [],
   "source": [
    "data = data[data['caseid'].isin(patient_ecgs['caseid'])]"
   ]
  },
  {
   "cell_type": "markdown",
   "id": "9cef9166",
   "metadata": {},
   "source": [
    "Before looking at all the patients, we compare 5 just to see some comparisons."
   ]
  },
  {
   "cell_type": "code",
   "execution_count": 15,
   "id": "6005dd1d",
   "metadata": {},
   "outputs": [
    {
     "name": "stdout",
     "output_type": "stream",
     "text": [
      "\n",
      "CASE 279\n",
      "\n",
      "Sample Entropy calculated in 79.149 seconds\n",
      "Mean Sample Entropy: inf\n",
      "Maximum Sample Entropy: inf\n",
      "\n"
     ]
    },
    {
     "name": "stderr",
     "output_type": "stream",
     "text": [
      "/Users/dylanmack/anaconda3/lib/python3.11/site-packages/neurokit2/ecg/ecg_clean.py:106: NeuroKitWarning: There are 9550 missing data points in your signal. Filling missing values by using the forward filling method.\n",
      "  warn(\n",
      "/Users/dylanmack/anaconda3/lib/python3.11/site-packages/neurokit2/signal/signal_fixpeaks.py:307: RuntimeWarning: divide by zero encountered in divide\n",
      "  mrrs /= th2\n",
      "/Users/dylanmack/anaconda3/lib/python3.11/site-packages/neurokit2/signal/signal_fixpeaks.py:307: RuntimeWarning: invalid value encountered in divide\n",
      "  mrrs /= th2\n",
      "/Users/dylanmack/anaconda3/lib/python3.11/site-packages/neurokit2/signal/signal_fixpeaks.py:307: RuntimeWarning: divide by zero encountered in divide\n",
      "  mrrs /= th2\n",
      "/Users/dylanmack/anaconda3/lib/python3.11/site-packages/neurokit2/signal/signal_fixpeaks.py:307: RuntimeWarning: invalid value encountered in divide\n",
      "  mrrs /= th2\n",
      "/Users/dylanmack/anaconda3/lib/python3.11/site-packages/neurokit2/signal/signal_fixpeaks.py:307: RuntimeWarning: divide by zero encountered in divide\n",
      "  mrrs /= th2\n",
      "/Users/dylanmack/anaconda3/lib/python3.11/site-packages/neurokit2/signal/signal_fixpeaks.py:307: RuntimeWarning: invalid value encountered in divide\n",
      "  mrrs /= th2\n",
      "/Users/dylanmack/anaconda3/lib/python3.11/site-packages/neurokit2/signal/signal_fixpeaks.py:307: RuntimeWarning: divide by zero encountered in divide\n",
      "  mrrs /= th2\n",
      "/Users/dylanmack/anaconda3/lib/python3.11/site-packages/neurokit2/signal/signal_fixpeaks.py:307: RuntimeWarning: invalid value encountered in divide\n",
      "  mrrs /= th2\n"
     ]
    },
    {
     "name": "stdout",
     "output_type": "stream",
     "text": [
      "R-R interval measure calculated in 117.469 seconds\n",
      "RMSSD: 0.01653802088935859\n",
      "\n",
      "\n",
      "CASE 366\n",
      "\n",
      "Sample Entropy calculated in 245.085 seconds\n",
      "Mean Sample Entropy: 0.4555916365156369\n",
      "Maximum Sample Entropy: 2.0996442489973557\n",
      "\n",
      "R-R interval measure calculated in 132.756 seconds\n",
      "RMSSD: 0.015811151614750125\n",
      "\n",
      "\n",
      "CASE 521\n",
      "\n",
      "Sample Entropy calculated in 59.250 seconds\n",
      "Mean Sample Entropy: inf\n",
      "Maximum Sample Entropy: inf\n",
      "\n"
     ]
    },
    {
     "name": "stderr",
     "output_type": "stream",
     "text": [
      "/Users/dylanmack/anaconda3/lib/python3.11/site-packages/neurokit2/ecg/ecg_clean.py:106: NeuroKitWarning: There are 7187 missing data points in your signal. Filling missing values by using the forward filling method.\n",
      "  warn(\n"
     ]
    },
    {
     "name": "stdout",
     "output_type": "stream",
     "text": [
      "R-R interval measure calculated in 50.920 seconds\n",
      "RMSSD: 0.027187185641212145\n",
      "\n",
      "\n",
      "CASE 754\n",
      "\n"
     ]
    },
    {
     "name": "stderr",
     "output_type": "stream",
     "text": [
      "/var/folders/v_/x9g5rqbn6rq7sdnq6dcr2zc80000gn/T/ipykernel_78098/3092496816.py:16: RuntimeWarning: divide by zero encountered in log\n",
      "  return -np.log(_phi(m + 1) / _phi(m)) if _phi(m) > 0 else np.inf\n"
     ]
    },
    {
     "name": "stdout",
     "output_type": "stream",
     "text": [
      "Sample Entropy calculated in 240.255 seconds\n",
      "Mean Sample Entropy: inf\n",
      "Maximum Sample Entropy: inf\n",
      "\n",
      "R-R interval measure calculated in 101.935 seconds\n",
      "RMSSD: 0.015238826770211373\n",
      "\n",
      "\n",
      "CASE 1276\n",
      "\n"
     ]
    },
    {
     "name": "stderr",
     "output_type": "stream",
     "text": [
      "/var/folders/v_/x9g5rqbn6rq7sdnq6dcr2zc80000gn/T/ipykernel_78098/3092496816.py:16: RuntimeWarning: divide by zero encountered in log\n",
      "  return -np.log(_phi(m + 1) / _phi(m)) if _phi(m) > 0 else np.inf\n"
     ]
    },
    {
     "name": "stdout",
     "output_type": "stream",
     "text": [
      "Sample Entropy calculated in 230.655 seconds\n",
      "Mean Sample Entropy: inf\n",
      "Maximum Sample Entropy: inf\n",
      "\n"
     ]
    },
    {
     "name": "stderr",
     "output_type": "stream",
     "text": [
      "/Users/dylanmack/anaconda3/lib/python3.11/site-packages/neurokit2/signal/signal_fixpeaks.py:307: RuntimeWarning: divide by zero encountered in divide\n",
      "  mrrs /= th2\n",
      "/Users/dylanmack/anaconda3/lib/python3.11/site-packages/neurokit2/signal/signal_fixpeaks.py:307: RuntimeWarning: invalid value encountered in divide\n",
      "  mrrs /= th2\n",
      "/Users/dylanmack/anaconda3/lib/python3.11/site-packages/neurokit2/signal/signal_fixpeaks.py:307: RuntimeWarning: divide by zero encountered in divide\n",
      "  mrrs /= th2\n",
      "/Users/dylanmack/anaconda3/lib/python3.11/site-packages/neurokit2/signal/signal_fixpeaks.py:307: RuntimeWarning: invalid value encountered in divide\n",
      "  mrrs /= th2\n"
     ]
    },
    {
     "name": "stdout",
     "output_type": "stream",
     "text": [
      "R-R interval measure calculated in 97.832 seconds\n",
      "RMSSD: 0.018036625423534156\n",
      "\n"
     ]
    }
   ],
   "source": [
    "for i, row in patient_ecgs.iloc[:5].iterrows():\n",
    "    ecg_time, ecg_data = get_data_for(row['tid'])\n",
    "    fs = 500\n",
    "    valid_data = ecg_data[(ecg_time > 900) & (ecg_time < ecg_time[-1]-900)]\n",
    "    valid_time = ecg_time[(ecg_time > 900) & (ecg_time < ecg_time[-1]-900)]\n",
    "    segment_length = 1000 # with downsampling, segments are 20 seconds\n",
    "    m = 2 # typical for ECG data\n",
    "    r = 0.2 * np.std(valid_data) # typical for ECG data\n",
    "    downsample_factor = 10\n",
    "    \n",
    "    print(f'\\nCASE {i}\\n')\n",
    "    \n",
    "    start_time1 = time.time()\n",
    "    mean_sampen, max_sampen = segment_based_sampen(valid_data, segment_length, m, r, downsample_factor)\n",
    "    end_time1 = time.time()\n",
    "\n",
    "    print(f\"Sample Entropy calculated in {end_time1 - start_time1:.3f} seconds\")\n",
    "    print(f\"Mean Sample Entropy: {mean_sampen}\")\n",
    "    print(f\"Maximum Sample Entropy: {max_sampen}\\n\")\n",
    "    \n",
    "    start_time2 = time.time()\n",
    "    rmssd = rr_interval_rmssd(valid_data, 500)\n",
    "    end_time2 = time.time()\n",
    "\n",
    "    print(f'R-R interval measure calculated in {end_time2 - start_time2:.3f} seconds')\n",
    "    print(f'RMSSD: {rmssd}\\n')\n",
    "    "
   ]
  },
  {
   "cell_type": "code",
   "execution_count": null,
   "id": "9e3f2d8f",
   "metadata": {},
   "outputs": [],
   "source": []
  },
  {
   "cell_type": "code",
   "execution_count": null,
   "id": "1e0eed11",
   "metadata": {},
   "outputs": [],
   "source": []
  }
 ],
 "metadata": {
  "kernelspec": {
   "display_name": "Python 3 (ipykernel)",
   "language": "python",
   "name": "python3"
  },
  "language_info": {
   "codemirror_mode": {
    "name": "ipython",
    "version": 3
   },
   "file_extension": ".py",
   "mimetype": "text/x-python",
   "name": "python",
   "nbconvert_exporter": "python",
   "pygments_lexer": "ipython3",
   "version": "3.11.7"
  }
 },
 "nbformat": 4,
 "nbformat_minor": 5
}
