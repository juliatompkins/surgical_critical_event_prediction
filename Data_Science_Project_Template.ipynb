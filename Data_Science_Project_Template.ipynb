{
 "cells": [
  {
   "cell_type": "markdown",
   "id": "eea15116",
   "metadata": {},
   "source": [
    "\n",
    "# Surgical Critical Event Prediction via Time Series Analysis of Vital Sign Data\n",
    "     "
   ]
  },
  {
   "cell_type": "markdown",
   "id": "5f8ea9bf",
   "metadata": {},
   "source": [
    "\n",
    "## Authors and Team\n",
    "\n",
    "- **Author 1**: Dylan Mack, Team Member\n",
    "- **Author 2**: Julia Tompkins, Team Member\n",
    "        "
   ]
  },
  {
   "cell_type": "markdown",
   "id": "06cf532e",
   "metadata": {},
   "source": [
    "\n",
    "## Abstract\n",
    "\n",
    "**Provide a brief summary of your project here (150-250 words)**\n",
    "\n",
    "The operating room is a data-rich environment in which analytical frameworks offer great potential for saving lives. All surgical decisions require weighing the benefits of a procedure against the inherent risks of anesthesia, infection, and other complications - a consideration that sometimes must be made with limited information. This project aims to construct a predictive machine learning workflow to forecast a patient’s likelihood of experiencing adverse events during surgery, based on real-time collection and analysis of vital sign data. Surgeons will then be able to use this tool to inform critical decisions in the operating room with added knowledge about the stability of their patient. Specific methods that we plan to use include data preprocessing techniques such as time series decomposition and machine learning models such as LSTM neural networks. By introducing better information into the decision-making ecosystem, the desired outcome of this project is a reduction in adverse surgical events.        "
   ]
  },
  {
   "cell_type": "markdown",
   "id": "aa57a788",
   "metadata": {},
   "source": [
    "\n",
    "## Project Description\n",
    "\n",
    "### 4.1 [Problem Definition]\n",
    "\n",
    "#### i. What is the Research Problem that you will be addressing using an Analytical Framework?\n",
    "\n",
    "We are looking at Problem 12: Healthcare Time Series Analysis for Patient Monitoring. The core problem is the critical events that occur during surgeries and other medical procedures. From a technical perspective, the complex non-linear relationship between the vitals data that is collected during these procedures and critical event occurrence makes it difficult to predict when an adverse event will occur.\n",
    "\n",
    "#### ii. Motivation\n",
    "\n",
    "Surgery is unavoidably a high-risk activity that places strain on the body, leading sometimes to adverse events, like cardiac arrest, fistulas, and excessive bleeding. Often times, a surgical team can only respond reactively, not proactively, as these adverse events are caused by unclear, complex interactions of many factors. Machine learning as a field is suited to this task of determining the complicated, non-linear relationship between patient vitals and adverse surgical events.\n",
    "\n",
    "#### iii. What decisions will you be impacting?\n",
    "\n",
    "The purpose of this tool is to equip surgeons with information about the stability of their patient, which can improve decision-making on various fronts. For example, a doctor may use this tool to help determine when to administer preventative medications or whether to proceed with a particularly risky portion of a surgery.\n",
    "\n",
    "#### iv. What is the business/societal value of the decisions to be impacted?\n",
    "\n",
    "If our model is successful at predicting critical health events during surgeries, physicians can intervene earlier, and critical health events will occur less often or decrease in severity. This will save hospitals money, as less time and resources will have to be dedicated to these events, and the increased success rate of surgeries will also build hospital reputation. From a societal context, this model has obvious value. Patients will experience adverse health events less often and will hopefully have better health outcomes.\n",
    "\n",
    "#### v. Why is this project important to you?\n",
    "\n",
    "Four years ago, in Fall 2020, we took ESE 105: Intro to Electrical and Systems Engineering, where we completed a case study exploring the ongoing COVID-19 pandemic. We modeled disease spread using dynamical systems and fit our model to real-world infection data from St. Louis, allowing us to then simulate the impact of vaccination and masking policies. This was a very impactful project for us, and we have been interested in the intersection between engineering and healthcare ever since. This project is an opportunity for us to use our increased knowledge of machine learning to work on a new healthcare problem, this one being less large-scale and policy focused and instead more real-time and directly patient focused.\n"
   ]
  },
  {
   "cell_type": "markdown",
   "id": "1faf5938",
   "metadata": {},
   "source": [
    "\n",
    "### 4.2 [Methods]\n",
    "\n",
    "#### i. How are you planning to approach the solution to your research problem?\n",
    "\n",
    "We hope to use time series analysis processing methods such as detrending and removal of periodicity to extract information about patient wellbeing from vital sign data from the operating room. We will then use this processed data to train models to predict, in real-time, the risk of a patient experiencing adverse events, like cardiac arrest. We describe the specific models that we plan to use in (iii).\n",
    "\n",
    "#### ii. What is the data asset that you plan on using?\n",
    "\n",
    "We plan on using the Medical Informatics Operating Room Vitals and Events Repository (MOVER) dataset, which we found from the UCI Machine Learning Repository. Our input data will be patients’ operating room vitals, which include heart rate (from EKG waveforms and pulse oximeters), systolic and diastolic blood pressure, mean arterial pressure, and blood oxygen levels. The output data will be patient records of occurrence of adverse events. All of these occurrences also include a time stamp, which will allow us to simulate real-time data processing. We cannot view exactly which adverse events are included in the dataset until we download the data, but we anticipate this to be cardiac arrest or a similar acute event. We are currently struggling to download the data because one table is 118 GB, which is more storage than our laptops have available.\n",
    "\n",
    "#### iii. What are the types of analytical frameworks that you would be using?\n",
    "\n",
    "As currently outlined, our project focuses on a predictive framework. Based on a patient’s multivariate time series of vitals, we aim to forecast their risk of adverse events, which is a predictive task. As we discussed in class, effective data-driven decision-making combines insights from data analytics with domain knowledge. Thus, our tool should be combined with the expertise of a surgeon to augment choices made in the operating room. If this portion is successful enough, we could transition into a later stage of prescriptive analytics, which might include prescriptions around when/what quantity of epinephrine or other drugs should be administered in the event of cardiac arrest.\n",
    "\n",
    "Looking at specific models within this predictive framework, we want to start with methods that we are familiar with, such as logistic regression, in order to better understand the data and the features. Then, we want to move on to real-time data processing techniques. One area we are interested in exploring is LSTMs (long short term memory neural networks), as they are best for dealing with long-term time series data with nonlinear patterns, and we expect our data to be very long.\n"
   ]
  },
  {
   "cell_type": "markdown",
   "id": "3888d2fe",
   "metadata": {},
   "source": [
    "\n",
    "## Bibliography\n",
    "\n",
    "**List all the references you used to support your project.**\n",
    "\n",
    "- Samad M, Angel M, Rinehart J, Kanomata Y, Baldi P, Cannesson M. Medical Informatics Operating Room Vitals and Events Repository (MOVER): a public-access operating room database. JAMIA Open. 2023 Oct 17;6(4):ooad084. doi: 10.1093/jamiaopen/ooad084. PMID: 37860605; PMCID: PMC10582520\n",
    "- ScienceDirect. (n.d.). Long short-term memory network. In ScienceDirect Topics. Retrieved September 12, 2024, from https://www.sciencedirect.com/topics/computer-science/long-short-term-memory-network\n",
    "\n",
    "\n",
    "        "
   ]
  }
 ],
 "metadata": {
  "kernelspec": {
   "display_name": "Python 3 (ipykernel)",
   "language": "python",
   "name": "python3"
  },
  "language_info": {
   "codemirror_mode": {
    "name": "ipython",
    "version": 3
   },
   "file_extension": ".py",
   "mimetype": "text/x-python",
   "name": "python",
   "nbconvert_exporter": "python",
   "pygments_lexer": "ipython3",
   "version": "3.7.11"
  }
 },
 "nbformat": 4,
 "nbformat_minor": 5
}
