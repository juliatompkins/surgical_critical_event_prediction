{
 "cells": [
  {
   "cell_type": "code",
   "execution_count": 1,
   "id": "2e7d7e48",
   "metadata": {},
   "outputs": [],
   "source": [
    "import numpy as np\n",
    "import pandas as pd\n",
    "import matplotlib.pyplot as plt\n",
    "from sklearn.linear_model import LinearRegression\n",
    "from sklearn.linear_model import LogisticRegression\n",
    "from sklearn.model_selection import train_test_split\n",
    "from sklearn.metrics import r2_score, mean_squared_error, accuracy_score, confusion_matrix, classification_report\n",
    "\n",
    "\n",
    "\n",
    "# Reading in data\n",
    "data = pd.read_csv(\"data_icu.csv\")\n",
    "#data = pd.read_csv(\"/Users/dylanmack/Library/CloudStorage/OneDrive-WashingtonUniversityinSt.Louis/ESE 527/surgical_critical_event_prediction/data_icu.csv\")"
   ]
  },
  {
   "cell_type": "code",
   "execution_count": 2,
   "id": "ded982d2",
   "metadata": {},
   "outputs": [
    {
     "data": {
      "text/html": [
       "<div>\n",
       "<style scoped>\n",
       "    .dataframe tbody tr th:only-of-type {\n",
       "        vertical-align: middle;\n",
       "    }\n",
       "\n",
       "    .dataframe tbody tr th {\n",
       "        vertical-align: top;\n",
       "    }\n",
       "\n",
       "    .dataframe thead th {\n",
       "        text-align: right;\n",
       "    }\n",
       "</style>\n",
       "<table border=\"1\" class=\"dataframe\">\n",
       "  <thead>\n",
       "    <tr style=\"text-align: right;\">\n",
       "      <th></th>\n",
       "      <th>subjectid</th>\n",
       "      <th>Age</th>\n",
       "      <th>Ht</th>\n",
       "      <th>Wt</th>\n",
       "      <th>Sex</th>\n",
       "      <th>OP_time</th>\n",
       "      <th>Open</th>\n",
       "      <th>Robotic</th>\n",
       "      <th>Videoscopic</th>\n",
       "      <th>icu_days</th>\n",
       "      <th>death_inhosp</th>\n",
       "      <th>age_group</th>\n",
       "      <th>icu_length</th>\n",
       "      <th>Mahalanobis</th>\n",
       "    </tr>\n",
       "  </thead>\n",
       "  <tbody>\n",
       "    <tr>\n",
       "      <th>0</th>\n",
       "      <td>5077</td>\n",
       "      <td>18.0</td>\n",
       "      <td>175.1</td>\n",
       "      <td>59.2</td>\n",
       "      <td>0</td>\n",
       "      <td>292.55</td>\n",
       "      <td>1</td>\n",
       "      <td>0</td>\n",
       "      <td>0</td>\n",
       "      <td>3</td>\n",
       "      <td>0</td>\n",
       "      <td>child</td>\n",
       "      <td>1</td>\n",
       "      <td>2.082258</td>\n",
       "    </tr>\n",
       "    <tr>\n",
       "      <th>1</th>\n",
       "      <td>10</td>\n",
       "      <td>0.7</td>\n",
       "      <td>64.1</td>\n",
       "      <td>8.9</td>\n",
       "      <td>1</td>\n",
       "      <td>475.00</td>\n",
       "      <td>1</td>\n",
       "      <td>0</td>\n",
       "      <td>0</td>\n",
       "      <td>38</td>\n",
       "      <td>0</td>\n",
       "      <td>child</td>\n",
       "      <td>1</td>\n",
       "      <td>2.051887</td>\n",
       "    </tr>\n",
       "    <tr>\n",
       "      <th>2</th>\n",
       "      <td>5985</td>\n",
       "      <td>0.6</td>\n",
       "      <td>42.0</td>\n",
       "      <td>5.6</td>\n",
       "      <td>1</td>\n",
       "      <td>435.00</td>\n",
       "      <td>1</td>\n",
       "      <td>0</td>\n",
       "      <td>0</td>\n",
       "      <td>15</td>\n",
       "      <td>0</td>\n",
       "      <td>child</td>\n",
       "      <td>1</td>\n",
       "      <td>2.553821</td>\n",
       "    </tr>\n",
       "    <tr>\n",
       "      <th>3</th>\n",
       "      <td>10</td>\n",
       "      <td>0.8</td>\n",
       "      <td>64.1</td>\n",
       "      <td>8.9</td>\n",
       "      <td>1</td>\n",
       "      <td>115.00</td>\n",
       "      <td>1</td>\n",
       "      <td>0</td>\n",
       "      <td>0</td>\n",
       "      <td>38</td>\n",
       "      <td>0</td>\n",
       "      <td>child</td>\n",
       "      <td>1</td>\n",
       "      <td>1.676772</td>\n",
       "    </tr>\n",
       "    <tr>\n",
       "      <th>4</th>\n",
       "      <td>4603</td>\n",
       "      <td>18.0</td>\n",
       "      <td>185.0</td>\n",
       "      <td>62.6</td>\n",
       "      <td>0</td>\n",
       "      <td>210.00</td>\n",
       "      <td>1</td>\n",
       "      <td>0</td>\n",
       "      <td>0</td>\n",
       "      <td>1</td>\n",
       "      <td>0</td>\n",
       "      <td>child</td>\n",
       "      <td>0</td>\n",
       "      <td>1.775898</td>\n",
       "    </tr>\n",
       "  </tbody>\n",
       "</table>\n",
       "</div>"
      ],
      "text/plain": [
       "   subjectid   Age     Ht    Wt  Sex  OP_time  Open  Robotic  Videoscopic  \\\n",
       "0       5077  18.0  175.1  59.2    0   292.55     1        0            0   \n",
       "1         10   0.7   64.1   8.9    1   475.00     1        0            0   \n",
       "2       5985   0.6   42.0   5.6    1   435.00     1        0            0   \n",
       "3         10   0.8   64.1   8.9    1   115.00     1        0            0   \n",
       "4       4603  18.0  185.0  62.6    0   210.00     1        0            0   \n",
       "\n",
       "   icu_days  death_inhosp age_group  icu_length  Mahalanobis  \n",
       "0         3             0     child           1     2.082258  \n",
       "1        38             0     child           1     2.051887  \n",
       "2        15             0     child           1     2.553821  \n",
       "3        38             0     child           1     1.676772  \n",
       "4         1             0     child           0     1.775898  "
      ]
     },
     "execution_count": 2,
     "metadata": {},
     "output_type": "execute_result"
    }
   ],
   "source": [
    "data.head()"
   ]
  },
  {
   "cell_type": "markdown",
   "id": "e299bf53",
   "metadata": {},
   "source": [
    "# Multiple Linear Regression"
   ]
  },
  {
   "cell_type": "markdown",
   "id": "86c84894",
   "metadata": {},
   "source": [
    "For this section, we will only consider people who did have ICU stays and will predict the number of days their stay lasted."
   ]
  },
  {
   "cell_type": "code",
   "execution_count": 3,
   "id": "09f531ae",
   "metadata": {},
   "outputs": [
    {
     "name": "stdout",
     "output_type": "stream",
     "text": [
      "There are 284 training instances and 72 testing instances\n"
     ]
    },
    {
     "data": {
      "text/plain": [
       "(array([50., 15.,  1.,  2.,  2.,  1.,  0.,  0.,  0.,  1.]),\n",
       " array([ 2. ,  5.6,  9.2, 12.8, 16.4, 20. , 23.6, 27.2, 30.8, 34.4, 38. ]),\n",
       " <BarContainer object of 10 artists>)"
      ]
     },
     "execution_count": 3,
     "metadata": {},
     "output_type": "execute_result"
    },
    {
     "data": {
      "image/png": "[encoded data removed]",
      "text/plain": [
       "<Figure size 640x480 with 1 Axes>"
      ]
     },
     "metadata": {},
     "output_type": "display_data"
    }
   ],
   "source": [
    "# select the relevant variables\n",
    "X_ml = data[data['icu_length'] > 0][['Age', 'Ht', 'Wt', 'Sex', 'OP_time', 'Open', 'Robotic', 'Videoscopic']]\n",
    "y_ml = data[data['icu_length'] > 0]['icu_days']\n",
    "\n",
    "# test/train split\n",
    "X_train_ml, X_test_ml, y_train_ml, y_test_ml = train_test_split(X_ml, y_ml, test_size=0.2, random_state=10)\n",
    "\n",
    "print(f'There are {len(y_train_ml)} training instances and {len(y_test_ml)} testing instances')\n",
    "\n",
    "# train the model and make predictions\n",
    "model_ml = LinearRegression()\n",
    "model_ml.fit(X_train_ml, y_train_ml)\n",
    "y_prediction_ml = model_ml.predict(X_test_ml)\n",
    "\n",
    "plt.figure()\n",
    "plt.hist(y_test_ml)"
   ]
  },
  {
   "cell_type": "code",
   "execution_count": 6,
   "id": "f8b31e4a",
   "metadata": {},
   "outputs": [
    {
     "name": "stdout",
     "output_type": "stream",
     "text": [
      "The feature variables explain 20.99439259700021% of the variance in number of ICU days\n",
      "The root mean squared error is 4.926551192186834\n"
     ]
    },
    {
     "data": {
      "image/png": "[encoded data removed]",
      "text/plain": [
       "<Figure size 640x480 with 1 Axes>"
      ]
     },
     "metadata": {},
     "output_type": "display_data"
    }
   ],
   "source": [
    "# Coefficient of Determination (R²):\n",
    "# R² explains the proportion of variance in the target variable that is explained by the predictors.\n",
    "r2_ml = r2_score(y_test_ml, y_prediction_ml)\n",
    "print(f'The feature variables explain {100*r2_ml}% of the variance in number of ICU days')\n",
    "\n",
    "rmse_ml = mean_squared_error(y_test_ml, y_prediction_ml, squared = False)\n",
    "print(f'The root mean squared error is {rmse_ml}')\n",
    "\n",
    "# plotting residuals\n",
    "residuals_ml = y_test_ml - y_prediction_ml\n",
    "plt.scatter(y_prediction_ml, residuals_ml)\n",
    "plt.hlines(0, min(y_prediction_ml), max(y_prediction_ml), colors=\"r\", linestyles=\"dashed\")\n",
    "plt.xlabel(\"Predicted values\")\n",
    "plt.ylabel(\"Residuals\")\n",
    "plt.title(\"Residual Plot\")\n",
    "plt.show()"
   ]
  },
  {
   "cell_type": "markdown",
   "id": "dab7a800",
   "metadata": {},
   "source": [
    "# Logistic Regression (ICU)"
   ]
  },
  {
   "cell_type": "markdown",
   "id": "8ba08589",
   "metadata": {},
   "source": [
    "Predict whether or not someone will have an ICU stay."
   ]
  },
  {
   "cell_type": "code",
   "execution_count": 7,
   "id": "c37c62aa",
   "metadata": {},
   "outputs": [
    {
     "name": "stdout",
     "output_type": "stream",
     "text": [
      "There are 913 training instances and 229 testing instances\n"
     ]
    }
   ],
   "source": [
    "X_lr_icu = data[['Age', 'Ht', 'Wt', 'Sex', 'OP_time', 'Open', 'Robotic', 'Videoscopic']]\n",
    "y_lr_icu = data['icu_length']\n",
    "\n",
    "X_train_lr_icu, X_test_lr_icu, y_train_lr_icu, y_test_lr_icu = train_test_split(X_lr_icu, y_lr_icu, test_size=0.2, random_state=42)\n",
    "print(f'There are {len(y_train_lr_icu)} training instances and {len(y_test_lr_icu)} testing instances')\n",
    "\n",
    "# train the model and make predictions\n",
    "model_lr_icu = LogisticRegression(solver='liblinear', random_state=42)\n",
    "model_lr_icu.fit(X_train_lr_icu, y_train_lr_icu)\n",
    "y_prediction_lr_icu = model_lr_icu.predict(X_test_lr_icu)"
   ]
  },
  {
   "cell_type": "code",
   "execution_count": 9,
   "id": "a5487da9",
   "metadata": {},
   "outputs": [
    {
     "name": "stdout",
     "output_type": "stream",
     "text": [
      "Accuracy: 0.7161572052401747\n",
      "Confusion Matrix:\n",
      " [[133  13]\n",
      " [ 52  31]]\n",
      "Classification Report:\n",
      "               precision    recall  f1-score   support\n",
      "\n",
      "           0       0.72      0.91      0.80       146\n",
      "           1       0.70      0.37      0.49        83\n",
      "\n",
      "    accuracy                           0.72       229\n",
      "   macro avg       0.71      0.64      0.65       229\n",
      "weighted avg       0.71      0.72      0.69       229\n",
      "\n"
     ]
    }
   ],
   "source": [
    "accuracy_icu = accuracy_score(y_test_lr_icu, y_prediction_lr_icu)\n",
    "print(\"Accuracy:\", accuracy_icu)\n",
    "\n",
    "# Confusion Matrix\n",
    "print(\"Confusion Matrix:\\n\", confusion_matrix(y_test_lr_icu, y_prediction_lr_icu))\n",
    "\n",
    "# Classification Report\n",
    "print(\"Classification Report:\\n\", classification_report(y_test_lr_icu, y_prediction_lr_icu))"
   ]
  },
  {
   "cell_type": "markdown",
   "id": "29e37d08",
   "metadata": {},
   "source": [
    "# Logistic Regression (Mortality)"
   ]
  },
  {
   "cell_type": "code",
   "execution_count": 10,
   "id": "2bb2e00c",
   "metadata": {},
   "outputs": [
    {
     "name": "stdout",
     "output_type": "stream",
     "text": [
      "There are 913 training instances and 229 testing instances\n"
     ]
    }
   ],
   "source": [
    "X_lr_mor = data[['Age', 'Ht', 'Wt', 'Sex', 'OP_time', 'Open', 'Robotic', 'Videoscopic']]\n",
    "y_lr_mor = data['icu_length']\n",
    "\n",
    "X_train_lr_mor, X_test_lr_mor, y_train_lr_mor, y_test_lr_mor = train_test_split(X_lr_mor, y_lr_mor, test_size=0.2, random_state=42)\n",
    "print(f'There are {len(y_train_lr_mor)} training instances and {len(y_test_lr_mor)} testing instances')\n",
    "\n",
    "# train the model and make predictions\n",
    "model_lr_mor = LogisticRegression(solver='liblinear', random_state=42)\n",
    "model_lr_mor.fit(X_train_lr_mor, y_train_lr_mor)\n",
    "y_prediction_lr_mor = model_lr_mor.predict(X_test_lr_mor)"
   ]
  },
  {
   "cell_type": "code",
   "execution_count": 12,
   "id": "6ad18678",
   "metadata": {},
   "outputs": [
    {
     "name": "stdout",
     "output_type": "stream",
     "text": [
      "Accuracy: 0.7161572052401747\n",
      "Confusion Matrix:\n",
      " [[133  13]\n",
      " [ 52  31]]\n",
      "Classification Report:\n",
      "               precision    recall  f1-score   support\n",
      "\n",
      "           0       0.72      0.91      0.80       146\n",
      "           1       0.70      0.37      0.49        83\n",
      "\n",
      "    accuracy                           0.72       229\n",
      "   macro avg       0.71      0.64      0.65       229\n",
      "weighted avg       0.71      0.72      0.69       229\n",
      "\n"
     ]
    }
   ],
   "source": [
    "accuracy_mor = accuracy_score(y_test_lr_mor, y_prediction_lr_mor)\n",
    "print(\"Accuracy:\", accuracy_mor)\n",
    "\n",
    "# Confusion Matrix\n",
    "print(\"Confusion Matrix:\\n\", confusion_matrix(y_test_lr_mor, y_prediction_lr_mor))\n",
    "\n",
    "# Classification Report\n",
    "print(\"Classification Report:\\n\", classification_report(y_test_lr_mor, y_prediction_lr_mor))"
   ]
  },
  {
   "cell_type": "code",
   "execution_count": 13,
   "id": "74a7f031",
   "metadata": {},
   "outputs": [
    {
     "name": "stdout",
     "output_type": "stream",
     "text": [
      "Accuracy: 0.6986899563318777\n",
      "Confusion Matrix:\n",
      " [[92 54]\n",
      " [15 68]]\n",
      "Classification Report:\n",
      "               precision    recall  f1-score   support\n",
      "\n",
      "           0       0.86      0.63      0.73       146\n",
      "           1       0.56      0.82      0.66        83\n",
      "\n",
      "    accuracy                           0.70       229\n",
      "   macro avg       0.71      0.72      0.70       229\n",
      "weighted avg       0.75      0.70      0.70       229\n",
      "\n"
     ]
    }
   ],
   "source": [
    "# Again but weight towards minority class\n",
    "\n",
    "model_lr_mor = LogisticRegression(class_weight=\"balanced\", solver='liblinear', random_state=42)\n",
    "model_lr_mor.fit(X_train_lr_mor, y_train_lr_mor)\n",
    "y_prediction_lr_mor = model_lr_mor.predict(X_test_lr_mor)\n",
    "\n",
    "accuracy_mor = accuracy_score(y_test_lr_mor, y_prediction_lr_mor)\n",
    "print(\"Accuracy:\", accuracy_mor)\n",
    "\n",
    "# Confusion Matrix\n",
    "print(\"Confusion Matrix:\\n\", confusion_matrix(y_test_lr_mor, y_prediction_lr_mor))\n",
    "\n",
    "# Classification Report\n",
    "print(\"Classification Report:\\n\", classification_report(y_test_lr_mor, y_prediction_lr_mor))"
   ]
  },
  {
   "cell_type": "code",
   "execution_count": null,
   "id": "0f03732a",
   "metadata": {},
   "outputs": [],
   "source": []
  }
 ],
 "metadata": {
  "kernelspec": {
   "display_name": "Python 3 (ipykernel)",
   "language": "python",
   "name": "python3"
  },
  "language_info": {
   "codemirror_mode": {
    "name": "ipython",
    "version": 3
   },
   "file_extension": ".py",
   "mimetype": "text/x-python",
   "name": "python",
   "nbconvert_exporter": "python",
   "pygments_lexer": "ipython3",
   "version": "3.7.11"
  }
 },
 "nbformat": 4,
 "nbformat_minor": 5
}
