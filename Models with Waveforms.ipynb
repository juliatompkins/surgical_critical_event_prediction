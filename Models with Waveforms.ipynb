{
 "cells": [
  {
   "cell_type": "code",
   "execution_count": 1,
   "id": "2e7d7e48",
   "metadata": {},
   "outputs": [],
   "source": [
    "import numpy as np\n",
    "import pandas as pd\n",
    "import matplotlib.pyplot as plt\n",
    "from sklearn.linear_model import LinearRegression\n",
    "from sklearn.linear_model import LogisticRegression\n",
    "from sklearn.ensemble import RandomForestClassifier\n",
    "import xgboost as xgb\n",
    "from sklearn.model_selection import train_test_split\n",
    "from sklearn.metrics import r2_score, mean_squared_error, accuracy_score, confusion_matrix, classification_report\n",
    "import seaborn as sns\n",
    "from sklearn.ensemble import GradientBoostingClassifier\n",
    "from sklearn.model_selection import GridSearchCV, cross_val_score\n",
    "from sklearn.model_selection import StratifiedKFold"
   ]
  },
  {
   "cell_type": "code",
   "execution_count": 2,
   "id": "ded982d2",
   "metadata": {
    "scrolled": true
   },
   "outputs": [
    {
     "data": {
      "text/html": [
       "<div>\n",
       "<style scoped>\n",
       "    .dataframe tbody tr th:only-of-type {\n",
       "        vertical-align: middle;\n",
       "    }\n",
       "\n",
       "    .dataframe tbody tr th {\n",
       "        vertical-align: top;\n",
       "    }\n",
       "\n",
       "    .dataframe thead th {\n",
       "        text-align: right;\n",
       "    }\n",
       "</style>\n",
       "<table border=\"1\" class=\"dataframe\">\n",
       "  <thead>\n",
       "    <tr style=\"text-align: right;\">\n",
       "      <th></th>\n",
       "      <th>Age</th>\n",
       "      <th>Ht</th>\n",
       "      <th>Wt</th>\n",
       "      <th>Sex</th>\n",
       "      <th>OP_time</th>\n",
       "      <th>Open</th>\n",
       "      <th>Robotic</th>\n",
       "      <th>Videoscopic</th>\n",
       "      <th>icu_days</th>\n",
       "      <th>inpatient</th>\n",
       "      <th>rmssds</th>\n",
       "      <th>jumps</th>\n",
       "      <th>perc_outs</th>\n",
       "    </tr>\n",
       "  </thead>\n",
       "  <tbody>\n",
       "    <tr>\n",
       "      <th>0</th>\n",
       "      <td>18.0</td>\n",
       "      <td>175.1</td>\n",
       "      <td>59.2</td>\n",
       "      <td>0</td>\n",
       "      <td>292.55</td>\n",
       "      <td>1</td>\n",
       "      <td>0</td>\n",
       "      <td>0</td>\n",
       "      <td>3</td>\n",
       "      <td>1</td>\n",
       "      <td>0.012279</td>\n",
       "      <td>3</td>\n",
       "      <td>7.787555</td>\n",
       "    </tr>\n",
       "    <tr>\n",
       "      <th>1</th>\n",
       "      <td>0.7</td>\n",
       "      <td>64.1</td>\n",
       "      <td>8.9</td>\n",
       "      <td>1</td>\n",
       "      <td>475.00</td>\n",
       "      <td>1</td>\n",
       "      <td>0</td>\n",
       "      <td>0</td>\n",
       "      <td>38</td>\n",
       "      <td>1</td>\n",
       "      <td>0.011702</td>\n",
       "      <td>2</td>\n",
       "      <td>4.093900</td>\n",
       "    </tr>\n",
       "    <tr>\n",
       "      <th>2</th>\n",
       "      <td>0.6</td>\n",
       "      <td>42.0</td>\n",
       "      <td>5.6</td>\n",
       "      <td>1</td>\n",
       "      <td>435.00</td>\n",
       "      <td>1</td>\n",
       "      <td>0</td>\n",
       "      <td>0</td>\n",
       "      <td>15</td>\n",
       "      <td>1</td>\n",
       "      <td>0.016955</td>\n",
       "      <td>0</td>\n",
       "      <td>2.513406</td>\n",
       "    </tr>\n",
       "    <tr>\n",
       "      <th>3</th>\n",
       "      <td>0.8</td>\n",
       "      <td>64.1</td>\n",
       "      <td>8.9</td>\n",
       "      <td>1</td>\n",
       "      <td>115.00</td>\n",
       "      <td>1</td>\n",
       "      <td>0</td>\n",
       "      <td>0</td>\n",
       "      <td>38</td>\n",
       "      <td>1</td>\n",
       "      <td>0.010308</td>\n",
       "      <td>0</td>\n",
       "      <td>0.417537</td>\n",
       "    </tr>\n",
       "    <tr>\n",
       "      <th>4</th>\n",
       "      <td>18.0</td>\n",
       "      <td>185.0</td>\n",
       "      <td>62.6</td>\n",
       "      <td>0</td>\n",
       "      <td>210.00</td>\n",
       "      <td>1</td>\n",
       "      <td>0</td>\n",
       "      <td>0</td>\n",
       "      <td>1</td>\n",
       "      <td>0</td>\n",
       "      <td>0.037247</td>\n",
       "      <td>7</td>\n",
       "      <td>6.031319</td>\n",
       "    </tr>\n",
       "  </tbody>\n",
       "</table>\n",
       "</div>"
      ],
      "text/plain": [
       "    Age     Ht    Wt  Sex  OP_time  Open  Robotic  Videoscopic  icu_days  \\\n",
       "0  18.0  175.1  59.2    0   292.55     1        0            0         3   \n",
       "1   0.7   64.1   8.9    1   475.00     1        0            0        38   \n",
       "2   0.6   42.0   5.6    1   435.00     1        0            0        15   \n",
       "3   0.8   64.1   8.9    1   115.00     1        0            0        38   \n",
       "4  18.0  185.0  62.6    0   210.00     1        0            0         1   \n",
       "\n",
       "   inpatient    rmssds  jumps  perc_outs  \n",
       "0          1  0.012279      3   7.787555  \n",
       "1          1  0.011702      2   4.093900  \n",
       "2          1  0.016955      0   2.513406  \n",
       "3          1  0.010308      0   0.417537  \n",
       "4          0  0.037247      7   6.031319  "
      ]
     },
     "execution_count": 2,
     "metadata": {},
     "output_type": "execute_result"
    }
   ],
   "source": [
    "data = pd.read_csv(\"data_waveforms_incomplete.csv\")\n",
    "data = data.rename(columns={\"icu_length\": \"inpatient\"})\n",
    "data = data.drop(columns=['death_inhosp','Mahalanobis','age_group','caseid','subjectid'])\n",
    "data.head()"
   ]
  },
  {
   "cell_type": "markdown",
   "id": "e299bf53",
   "metadata": {},
   "source": [
    "# Multiple Linear Regression"
   ]
  },
  {
   "cell_type": "markdown",
   "id": "86c84894",
   "metadata": {},
   "source": [
    "For this section, we will only consider people who did have ICU stays and will predict the number of days their stay lasted."
   ]
  },
  {
   "cell_type": "code",
   "execution_count": 3,
   "id": "09f531ae",
   "metadata": {},
   "outputs": [
    {
     "name": "stdout",
     "output_type": "stream",
     "text": [
      "There are 908 training instances and 228 testing instances\n"
     ]
    },
    {
     "data": {
      "text/plain": [
       "(array([219.,   6.,   2.,   0.,   0.,   0.,   0.,   0.,   0.,   1.]),\n",
       " array([  1. ,  18.8,  36.6,  54.4,  72.2,  90. , 107.8, 125.6, 143.4,\n",
       "        161.2, 179. ]),\n",
       " <BarContainer object of 10 artists>)"
      ]
     },
     "execution_count": 3,
     "metadata": {},
     "output_type": "execute_result"
    },
    {
     "data": {
      "image/png": "[encoded data removed]",
      "text/plain": [
       "<Figure size 640x480 with 1 Axes>"
      ]
     },
     "metadata": {},
     "output_type": "display_data"
    }
   ],
   "source": [
    "# select the relevant variables\n",
    "X_ml = data[['Age', 'Ht', 'Wt', 'Sex', 'OP_time', 'Open', 'Robotic', 'Videoscopic', 'rmssds', 'jumps', 'perc_outs']]\n",
    "y_ml = data['icu_days']\n",
    "\n",
    "# test/train split\n",
    "X_train_ml, X_test_ml, y_train_ml, y_test_ml = train_test_split(X_ml, y_ml, test_size=0.2, random_state=10)\n",
    "\n",
    "print(f'There are {len(y_train_ml)} training instances and {len(y_test_ml)} testing instances')\n",
    "\n",
    "# train the model and make predictions\n",
    "model_ml = LinearRegression()\n",
    "model_ml.fit(X_train_ml, y_train_ml)\n",
    "y_prediction_ml = model_ml.predict(X_test_ml)\n",
    "\n",
    "plt.figure()\n",
    "plt.hist(y_test_ml)"
   ]
  },
  {
   "cell_type": "code",
   "execution_count": 4,
   "id": "f8b31e4a",
   "metadata": {},
   "outputs": [
    {
     "name": "stdout",
     "output_type": "stream",
     "text": [
      "The feature variables explain -0.38402403904631566% of the variance in number of ICU days\n",
      "The root mean squared error is 13.12511311137983\n"
     ]
    },
    {
     "name": "stderr",
     "output_type": "stream",
     "text": [
      "/Users/dylanmack/anaconda3/lib/python3.11/site-packages/sklearn/metrics/_regression.py:483: FutureWarning: 'squared' is deprecated in version 1.4 and will be removed in 1.6. To calculate the root mean squared error, use the function'root_mean_squared_error'.\n",
      "  warnings.warn(\n"
     ]
    },
    {
     "data": {
      "image/png": "[encoded data removed]",
      "text/plain": [
       "<Figure size 640x480 with 1 Axes>"
      ]
     },
     "metadata": {},
     "output_type": "display_data"
    }
   ],
   "source": [
    "# Coefficient of Determination (R²):\n",
    "# R² explains the proportion of variance in the target variable that is explained by the predictors.\n",
    "r2_ml = r2_score(y_test_ml, y_prediction_ml)\n",
    "print(f'The feature variables explain {100*r2_ml}% of the variance in number of ICU days')\n",
    "\n",
    "rmse_ml = mean_squared_error(y_test_ml, y_prediction_ml, squared = False)\n",
    "print(f'The root mean squared error is {rmse_ml}')\n",
    "\n",
    "# plotting residuals\n",
    "residuals_ml = y_test_ml - y_prediction_ml\n",
    "plt.scatter(y_prediction_ml, residuals_ml)\n",
    "plt.hlines(0, min(y_prediction_ml), max(y_prediction_ml), colors=\"r\", linestyles=\"dashed\")\n",
    "plt.xlabel(\"Predicted values\")\n",
    "plt.ylabel(\"Residuals\")\n",
    "plt.title(\"Residual Plot\")\n",
    "plt.show()"
   ]
  },
  {
   "cell_type": "markdown",
   "id": "dab7a800",
   "metadata": {},
   "source": [
    "# Logistic Regression (ICU)"
   ]
  },
  {
   "cell_type": "markdown",
   "id": "8ba08589",
   "metadata": {},
   "source": [
    "Predict whether or not someone will have long or short ICU stay."
   ]
  },
  {
   "cell_type": "code",
   "execution_count": 5,
   "id": "c37c62aa",
   "metadata": {},
   "outputs": [
    {
     "name": "stdout",
     "output_type": "stream",
     "text": [
      "There are 908 training instances and 228 testing instances\n"
     ]
    }
   ],
   "source": [
    "X_lr_icu = data[['Age', 'Ht', 'Wt', 'Sex', 'OP_time', 'Open', 'Robotic', 'Videoscopic', 'rmssds', 'jumps', 'perc_outs']]\n",
    "y_lr_icu = data['inpatient']\n",
    "\n",
    "X_train_lr_icu, X_test_lr_icu, y_train_lr_icu, y_test_lr_icu = train_test_split(X_lr_icu, y_lr_icu, test_size=0.2, random_state=42)\n",
    "print(f'There are {len(y_train_lr_icu)} training instances and {len(y_test_lr_icu)} testing instances')\n",
    "\n",
    "# train the model and make predictions\n",
    "model_lr_icu = LogisticRegression(class_weight=\"balanced\", solver='liblinear', random_state=42)\n",
    "model_lr_icu.fit(X_train_lr_icu, y_train_lr_icu)\n",
    "y_prediction_lr_icu = model_lr_icu.predict(X_test_lr_icu)"
   ]
  },
  {
   "cell_type": "code",
   "execution_count": 6,
   "id": "a5487da9",
   "metadata": {},
   "outputs": [
    {
     "name": "stdout",
     "output_type": "stream",
     "text": [
      "Accuracy: 0.6885964912280702\n",
      "Classification Report:\n",
      "               precision    recall  f1-score   support\n",
      "\n",
      "           0       0.91      0.61      0.73       157\n",
      "           1       0.50      0.86      0.63        71\n",
      "\n",
      "    accuracy                           0.69       228\n",
      "   macro avg       0.70      0.74      0.68       228\n",
      "weighted avg       0.78      0.69      0.70       228\n",
      "\n"
     ]
    }
   ],
   "source": [
    "accuracy_icu = accuracy_score(y_test_lr_icu, y_prediction_lr_icu)\n",
    "print(\"Accuracy:\", accuracy_icu)\n",
    "\n",
    "# Classification Report\n",
    "print(\"Classification Report:\\n\", classification_report(y_test_lr_icu, y_prediction_lr_icu))"
   ]
  },
  {
   "cell_type": "code",
   "execution_count": 7,
   "id": "e7520dfb",
   "metadata": {
    "scrolled": true
   },
   "outputs": [
    {
     "data": {
      "image/png": "[encoded data removed]",
      "text/plain": [
       "<Figure size 640x480 with 1 Axes>"
      ]
     },
     "metadata": {},
     "output_type": "display_data"
    }
   ],
   "source": [
    "# confusion matrix visualization\n",
    "\n",
    "cm_icu = confusion_matrix(y_test_lr_icu, y_prediction_lr_icu)\n",
    "\n",
    "plt.figure()\n",
    "sns.heatmap(cm_icu, annot=True, fmt='d', cmap='Blues', cbar=False, annot_kws={\"size\": 16})\n",
    "plt.xlabel('Predicted Labels')\n",
    "plt.ylabel('True Labels')\n",
    "plt.title('Confusion Matrix')\n",
    "plt.show()"
   ]
  },
  {
   "cell_type": "markdown",
   "id": "56b736b7",
   "metadata": {},
   "source": [
    "# Random Forest (ICU)"
   ]
  },
  {
   "cell_type": "code",
   "execution_count": 8,
   "id": "b961a258",
   "metadata": {},
   "outputs": [
    {
     "name": "stdout",
     "output_type": "stream",
     "text": [
      "There are 908 training instances and 228 testing instances\n",
      "Accuracy: 0.7631578947368421\n",
      "Classification Report:\n",
      "               precision    recall  f1-score   support\n",
      "\n",
      "           0       0.80      0.87      0.84       157\n",
      "           1       0.65      0.52      0.58        71\n",
      "\n",
      "    accuracy                           0.76       228\n",
      "   macro avg       0.73      0.70      0.71       228\n",
      "weighted avg       0.75      0.76      0.76       228\n",
      "\n"
     ]
    },
    {
     "data": {
      "image/png": "[encoded data removed]",
      "text/plain": [
       "<Figure size 640x480 with 1 Axes>"
      ]
     },
     "metadata": {},
     "output_type": "display_data"
    }
   ],
   "source": [
    "X_rf_icu = data[['Age', 'Ht', 'Wt', 'Sex', 'OP_time', 'Open', 'Robotic', 'Videoscopic', 'rmssds', 'jumps', 'perc_outs']]\n",
    "y_rf_icu = data['inpatient']\n",
    "\n",
    "X_train_rf_icu, X_test_rf_icu, y_train_rf_icu, y_test_rf_icu = train_test_split(X_rf_icu, y_rf_icu, test_size=0.2, random_state=42)\n",
    "print(f'There are {len(y_train_rf_icu)} training instances and {len(y_test_rf_icu)} testing instances')\n",
    "\n",
    "clf_icu = RandomForestClassifier(n_estimators=100, random_state=42)\n",
    "clf_icu.fit(X_train_rf_icu, y_train_rf_icu)\n",
    "\n",
    "y_pred_rf_icu = clf_icu.predict(X_test_rf_icu)\n",
    "\n",
    "\n",
    "\n",
    "accuracy_rf_icu = accuracy_score(y_test_rf_icu, y_pred_rf_icu)\n",
    "print(\"Accuracy:\", accuracy_rf_icu)\n",
    "\n",
    "# Classification Report\n",
    "print(\"Classification Report:\\n\", classification_report(y_test_rf_icu, y_pred_rf_icu))\n",
    "\n",
    "cm_rf_icu = confusion_matrix(y_test_rf_icu, y_pred_rf_icu)\n",
    "\n",
    "plt.figure()\n",
    "sns.heatmap(cm_rf_icu, annot=True, fmt='d', cmap='Blues', cbar=False, annot_kws={\"size\": 16})\n",
    "plt.xlabel('Predicted Labels')\n",
    "plt.ylabel('True Labels')\n",
    "plt.title('Confusion Matrix')\n",
    "plt.show()"
   ]
  },
  {
   "cell_type": "markdown",
   "id": "643e21c5",
   "metadata": {},
   "source": [
    "# XGBoost (ICU)"
   ]
  },
  {
   "cell_type": "code",
   "execution_count": 9,
   "id": "c24da884",
   "metadata": {
    "scrolled": false
   },
   "outputs": [
    {
     "name": "stdout",
     "output_type": "stream",
     "text": [
      "There are 908 training instances and 228 testing instances\n",
      "Accuracy: 0.7368421052631579\n",
      "Classification Report:\n",
      "               precision    recall  f1-score   support\n",
      "\n",
      "           0       0.79      0.85      0.82       157\n",
      "           1       0.59      0.49      0.54        71\n",
      "\n",
      "    accuracy                           0.74       228\n",
      "   macro avg       0.69      0.67      0.68       228\n",
      "weighted avg       0.73      0.74      0.73       228\n",
      "\n"
     ]
    },
    {
     "data": {
      "image/png": "[encoded data removed]",
      "text/plain": [
       "<Figure size 640x480 with 1 Axes>"
      ]
     },
     "metadata": {},
     "output_type": "display_data"
    }
   ],
   "source": [
    "X_xgb_icu = data[['Age', 'Ht', 'Wt', 'Sex', 'OP_time', 'Open', 'Robotic', 'Videoscopic', 'rmssds', 'jumps', 'perc_outs']]\n",
    "y_xgb_icu = data['inpatient']\n",
    "\n",
    "X_train_xgb_icu, X_test_xgb_icu, y_train_xgb_icu, y_test_xgb_icu = train_test_split(X_xgb_icu, y_xgb_icu, test_size=0.2, random_state=42)\n",
    "print(f'There are {len(y_train_xgb_icu)} training instances and {len(y_test_xgb_icu)} testing instances')\n",
    "\n",
    "xgb_icu = xgb.XGBClassifier()\n",
    "xgb_icu.fit(X_train_xgb_icu, y_train_xgb_icu)\n",
    "\n",
    "y_pred_xgb_icu = xgb_icu.predict(X_test_xgb_icu)\n",
    "\n",
    "\n",
    "\n",
    "accuracy_xgb_icu = accuracy_score(y_test_xgb_icu, y_pred_xgb_icu)\n",
    "print(\"Accuracy:\", accuracy_xgb_icu)\n",
    "\n",
    "# Classification Report\n",
    "print(\"Classification Report:\\n\", classification_report(y_test_xgb_icu, y_pred_xgb_icu))\n",
    "\n",
    "cm_xgb_icu = confusion_matrix(y_test_xgb_icu, y_pred_xgb_icu)\n",
    "\n",
    "plt.figure()\n",
    "sns.heatmap(cm_xgb_icu, annot=True, fmt='d', cmap='Blues', cbar=False, annot_kws={\"size\": 16})\n",
    "plt.xlabel('Predicted Labels')\n",
    "plt.ylabel('True Labels')\n",
    "plt.title('Confusion Matrix')\n",
    "plt.show()"
   ]
  },
  {
   "cell_type": "markdown",
   "id": "c9939fa7",
   "metadata": {},
   "source": [
    "# XGBoost Regression (Length of ICU Stay)"
   ]
  },
  {
   "cell_type": "code",
   "execution_count": 10,
   "id": "973f1f39",
   "metadata": {},
   "outputs": [
    {
     "name": "stdout",
     "output_type": "stream",
     "text": [
      "There are 908 training instances and 228 testing instances\n"
     ]
    },
    {
     "data": {
      "text/plain": [
       "(array([219.,   6.,   2.,   0.,   0.,   0.,   0.,   0.,   0.,   1.]),\n",
       " array([  1. ,  18.8,  36.6,  54.4,  72.2,  90. , 107.8, 125.6, 143.4,\n",
       "        161.2, 179. ]),\n",
       " <BarContainer object of 10 artists>)"
      ]
     },
     "execution_count": 10,
     "metadata": {},
     "output_type": "execute_result"
    },
    {
     "data": {
      "image/png": "[encoded data removed]",
      "text/plain": [
       "<Figure size 640x480 with 1 Axes>"
      ]
     },
     "metadata": {},
     "output_type": "display_data"
    }
   ],
   "source": [
    "# select the relevant variables\n",
    "X_xgb_licu = data[['Age', 'Ht', 'Wt', 'Sex', 'OP_time', 'Open', 'Robotic', 'Videoscopic', 'rmssds', 'jumps', 'perc_outs']]\n",
    "y_xgb_licu = data['icu_days']\n",
    "\n",
    "# test/train split\n",
    "X_train_xgb_licu, X_test_xgb_licu, y_train_xgb_licu, y_test_xgb_licu = train_test_split(X_xgb_licu, y_xgb_licu, test_size=0.2, random_state=10)\n",
    "\n",
    "print(f'There are {len(y_train_xgb_licu)} training instances and {len(y_test_xgb_licu)} testing instances')\n",
    "\n",
    "# train the model and make predictions\n",
    "xgb_licu = xgb.XGBRegressor()\n",
    "xgb_licu.fit(X_train_xgb_licu, y_train_xgb_licu)\n",
    "\n",
    "y_pred_xgb_licu = xgb_licu.predict(X_test_xgb_licu)\n",
    "\n",
    "plt.figure()\n",
    "plt.hist(y_test_xgb_licu)"
   ]
  },
  {
   "cell_type": "code",
   "execution_count": 11,
   "id": "86f8e28f",
   "metadata": {},
   "outputs": [
    {
     "name": "stdout",
     "output_type": "stream",
     "text": [
      "The feature variables explain 2.1016065808068585% of the variance in number of ICU days\n",
      "The root mean squared error is 12.961597668262494\n"
     ]
    },
    {
     "name": "stderr",
     "output_type": "stream",
     "text": [
      "/Users/dylanmack/anaconda3/lib/python3.11/site-packages/sklearn/metrics/_regression.py:483: FutureWarning: 'squared' is deprecated in version 1.4 and will be removed in 1.6. To calculate the root mean squared error, use the function'root_mean_squared_error'.\n",
      "  warnings.warn(\n"
     ]
    },
    {
     "data": {
      "image/png": "[encoded data removed]",
      "text/plain": [
       "<Figure size 640x480 with 1 Axes>"
      ]
     },
     "metadata": {},
     "output_type": "display_data"
    }
   ],
   "source": [
    "# Coefficient of Determination (R²):\n",
    "# R² explains the proportion of variance in the target variable that is explained by the predictors.\n",
    "r2_xgb_licu = r2_score(y_test_xgb_licu, y_pred_xgb_licu)\n",
    "print(f'The feature variables explain {100*r2_xgb_licu}% of the variance in number of ICU days')\n",
    "\n",
    "rmse_xgb_licu = mean_squared_error(y_test_xgb_licu, y_pred_xgb_licu, squared = False)\n",
    "print(f'The root mean squared error is {rmse_xgb_licu}')\n",
    "\n",
    "# plotting residuals\n",
    "residuals_xgb_licu = y_test_xgb_licu - y_pred_xgb_licu\n",
    "plt.scatter(y_pred_xgb_licu, residuals_xgb_licu)\n",
    "plt.hlines(0, min(y_pred_xgb_licu), max(y_pred_xgb_licu), colors=\"r\", linestyles=\"dashed\")\n",
    "plt.xlabel(\"Predicted values\")\n",
    "plt.ylabel(\"Residuals\")\n",
    "plt.title(\"Residual Plot\")\n",
    "plt.show()"
   ]
  },
  {
   "cell_type": "markdown",
   "id": "b8cdfd84",
   "metadata": {},
   "source": [
    "# Cross-Validation"
   ]
  },
  {
   "cell_type": "markdown",
   "id": "34fe51e2",
   "metadata": {},
   "source": [
    "From PyCaret, we found that the best model was GradientBoostingClassifier. We will use cross-validation to determine the best hyperparameters."
   ]
  },
  {
   "cell_type": "markdown",
   "id": "5462f3a3",
   "metadata": {},
   "source": [
    "### Random Forest"
   ]
  },
  {
   "cell_type": "code",
   "execution_count": 12,
   "id": "3efca6dc",
   "metadata": {},
   "outputs": [],
   "source": [
    "rf_param_grid = {\n",
    "    'max_depth': [3, 5, 7],\n",
    "    'n_estimators': [100, 200, 300, 500]\n",
    "}"
   ]
  },
  {
   "cell_type": "code",
   "execution_count": 13,
   "id": "732cc4de",
   "metadata": {},
   "outputs": [
    {
     "name": "stdout",
     "output_type": "stream",
     "text": [
      "Nested CV ROC AUC: 0.7818582900308925\n",
      "Optimal Parameters from each fold:\n",
      "[{'max_depth': 5, 'n_estimators': 300}, {'max_depth': 3, 'n_estimators': 200}, {'max_depth': 3, 'n_estimators': 300}, {'max_depth': 7, 'n_estimators': 500}, {'max_depth': 7, 'n_estimators': 500}]\n"
     ]
    }
   ],
   "source": [
    "X = data.drop(columns=['icu_days','inpatient'])\n",
    "y = data['inpatient']\n",
    "\n",
    "clf = RandomForestClassifier()\n",
    "\n",
    "inner_cv = StratifiedKFold(n_splits=5, shuffle=True, random_state=3) # for hyperparameters\n",
    "outer_cv = StratifiedKFold(n_splits=5, shuffle=True, random_state=3) # for evaluation\n",
    "\n",
    "optimal_params = []  \n",
    "roc_auc_scores = [] \n",
    "\n",
    "for train_idx, test_idx in outer_cv.split(X, y):\n",
    "    X_train, X_test = X.iloc[train_idx], X.iloc[test_idx]\n",
    "    y_train, y_test = y.iloc[train_idx], y.iloc[test_idx]\n",
    "\n",
    "    grid_search = GridSearchCV(estimator=clf, param_grid=rf_param_grid, cv=inner_cv, scoring='roc_auc')\n",
    "    grid_search.fit(X_train, y_train)\n",
    "\n",
    "    optimal_params.append(grid_search.best_params_)\n",
    "    roc_auc_scores.append(grid_search.score(X_test, y_test))\n",
    "\n",
    "print(\"Nested CV ROC AUC:\", np.mean(roc_auc_scores))\n",
    "print(\"Optimal Parameters from each fold:\")\n",
    "print(optimal_params)"
   ]
  },
  {
   "cell_type": "markdown",
   "id": "8b516c92",
   "metadata": {},
   "source": [
    "### XGBoost"
   ]
  },
  {
   "cell_type": "code",
   "execution_count": 14,
   "id": "ccf733dd",
   "metadata": {},
   "outputs": [],
   "source": [
    "xgb_param_grid = {\n",
    "    'max_depth': [3, 5, 7],\n",
    "    'n_estimators': [100, 200, 300],\n",
    "    'scale_pos_weight': [1, 10, 25]\n",
    "}"
   ]
  },
  {
   "cell_type": "code",
   "execution_count": 15,
   "id": "4608550a",
   "metadata": {},
   "outputs": [
    {
     "name": "stdout",
     "output_type": "stream",
     "text": [
      "Nested CV ROC AUC: 0.7557048809269137\n",
      "Optimal Parameters from each fold:\n",
      "[{'max_depth': 3, 'n_estimators': 100, 'scale_pos_weight': 1}, {'max_depth': 7, 'n_estimators': 200, 'scale_pos_weight': 1}, {'max_depth': 3, 'n_estimators': 100, 'scale_pos_weight': 1}, {'max_depth': 5, 'n_estimators': 100, 'scale_pos_weight': 1}, {'max_depth': 7, 'n_estimators': 300, 'scale_pos_weight': 10}]\n"
     ]
    }
   ],
   "source": [
    "X = data.drop(columns=['icu_days','inpatient'])\n",
    "y = data['inpatient']\n",
    "\n",
    "clf = xgb.XGBClassifier()\n",
    "\n",
    "inner_cv = StratifiedKFold(n_splits=5, shuffle=True, random_state=3) # for hyperparameters\n",
    "outer_cv = StratifiedKFold(n_splits=5, shuffle=True, random_state=3) # for evaluation\n",
    "\n",
    "optimal_params = []  \n",
    "roc_auc_scores = [] \n",
    "\n",
    "for train_idx, test_idx in outer_cv.split(X, y):\n",
    "    X_train, X_test = X.iloc[train_idx], X.iloc[test_idx]\n",
    "    y_train, y_test = y.iloc[train_idx], y.iloc[test_idx]\n",
    "\n",
    "    grid_search = GridSearchCV(estimator=clf, param_grid=xgb_param_grid, cv=inner_cv, scoring='roc_auc')\n",
    "    grid_search.fit(X_train, y_train)\n",
    "\n",
    "    optimal_params.append(grid_search.best_params_)\n",
    "    roc_auc_scores.append(grid_search.score(X_test, y_test))\n",
    "\n",
    "print(\"Nested CV ROC AUC:\", np.mean(roc_auc_scores))\n",
    "print(\"Optimal Parameters from each fold:\")\n",
    "print(optimal_params)"
   ]
  },
  {
   "cell_type": "markdown",
   "id": "ea375c78",
   "metadata": {},
   "source": [
    "### Gradient Boosting Classifier"
   ]
  },
  {
   "cell_type": "code",
   "execution_count": 16,
   "id": "1eb58fc0",
   "metadata": {},
   "outputs": [],
   "source": [
    "gbc_param_grid = {\n",
    "    'n_estimators': [100, 200, 300, 400],\n",
    "    'max_depth': [3, 5, 7],\n",
    "    'min_samples_split': [2, 5, 10]\n",
    "}"
   ]
  },
  {
   "cell_type": "code",
   "execution_count": 17,
   "id": "7f678f3c",
   "metadata": {},
   "outputs": [
    {
     "name": "stdout",
     "output_type": "stream",
     "text": [
      "Nested CV ROC AUC: 0.7733975796638396\n",
      "Optimal Parameters from each fold:\n",
      "[{'max_depth': 3, 'min_samples_split': 5, 'n_estimators': 100}, {'max_depth': 3, 'min_samples_split': 5, 'n_estimators': 100}, {'max_depth': 3, 'min_samples_split': 10, 'n_estimators': 100}, {'max_depth': 3, 'min_samples_split': 5, 'n_estimators': 100}, {'max_depth': 3, 'min_samples_split': 5, 'n_estimators': 100}]\n"
     ]
    }
   ],
   "source": [
    "\n",
    "X = data.drop(columns=['icu_days','inpatient'])\n",
    "y = data['inpatient']\n",
    "\n",
    "clf = GradientBoostingClassifier()\n",
    "\n",
    "inner_cv = StratifiedKFold(n_splits=5, shuffle=True, random_state=3) # for hyperparameters\n",
    "outer_cv = StratifiedKFold(n_splits=5, shuffle=True, random_state=3) # for evaluation\n",
    "\n",
    "optimal_params = []  \n",
    "roc_auc_scores = [] \n",
    "\n",
    "for train_idx, test_idx in outer_cv.split(X, y):\n",
    "    X_train, X_test = X.iloc[train_idx], X.iloc[test_idx]\n",
    "    y_train, y_test = y.iloc[train_idx], y.iloc[test_idx]\n",
    "\n",
    "    grid_search = GridSearchCV(estimator=clf, param_grid=gbc_param_grid, cv=inner_cv, scoring='roc_auc')\n",
    "    grid_search.fit(X_train, y_train)\n",
    "\n",
    "    optimal_params.append(grid_search.best_params_)\n",
    "    roc_auc_scores.append(grid_search.score(X_test, y_test))\n",
    "\n",
    "print(\"Nested CV ROC AUC:\", np.mean(roc_auc_scores))\n",
    "print(\"Optimal Parameters from each fold:\")\n",
    "print(optimal_params)"
   ]
  },
  {
   "cell_type": "code",
   "execution_count": null,
   "id": "f5e0a4a5",
   "metadata": {},
   "outputs": [],
   "source": []
  }
 ],
 "metadata": {
  "kernelspec": {
   "display_name": "Python 3 (ipykernel)",
   "language": "python",
   "name": "python3"
  },
  "language_info": {
   "codemirror_mode": {
    "name": "ipython",
    "version": 3
   },
   "file_extension": ".py",
   "mimetype": "text/x-python",
   "name": "python",
   "nbconvert_exporter": "python",
   "pygments_lexer": "ipython3",
   "version": "3.11.7"
  }
 },
 "nbformat": 4,
 "nbformat_minor": 5
}
